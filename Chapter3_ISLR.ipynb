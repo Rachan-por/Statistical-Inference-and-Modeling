{
  "cells": [
    {
      "cell_type": "markdown",
      "source": [
        "# Chapter 3: Linear Regression\n",
        "\n",
        "Linear regression is a useful tool for predicting a quantitative number."
      ],
      "metadata": {
        "id": "vJno4SUjIjy7"
      },
      "id": "vJno4SUjIjy7"
    },
    {
      "cell_type": "code",
      "execution_count": 1,
      "id": "25476236",
      "metadata": {
        "id": "25476236"
      },
      "outputs": [],
      "source": [
        "import pandas as pd\n",
        "import numpy as np\n",
        "import matplotlib.pyplot as plt\n",
        "import statsmodels.api as sm\n",
        "from matplotlib import cm\n",
        "%matplotlib inline"
      ]
    },
    {
      "cell_type": "code",
      "source": [
        "from google.colab import drive\n",
        "drive.mount('/content/gdrive/', force_remount=True)"
      ],
      "metadata": {
        "colab": {
          "base_uri": "https://localhost:8080/"
        },
        "id": "nF5jbxFiwkaX",
        "outputId": "7a67f384-d902-422a-8bae-9183323fc09f"
      },
      "id": "nF5jbxFiwkaX",
      "execution_count": 2,
      "outputs": [
        {
          "output_type": "stream",
          "name": "stdout",
          "text": [
            "Mounted at /content/gdrive/\n"
          ]
        }
      ]
    },
    {
      "cell_type": "markdown",
      "source": [
        "Advertising dataset"
      ],
      "metadata": {
        "id": "lCqS5G2cIjoB"
      },
      "id": "lCqS5G2cIjoB"
    },
    {
      "cell_type": "code",
      "execution_count": 3,
      "id": "74df56a3",
      "metadata": {
        "id": "74df56a3"
      },
      "outputs": [],
      "source": [
        "#data = pd.read_csv('/Users/rachan/Desktop/Por/Year4/Sem2/Stat Infer/ISLR_data/Advertising.csv', index_col = False)\n",
        "data = pd.read_csv('/content/gdrive/MyDrive/ISLR_data/Advertising.csv')"
      ]
    },
    {
      "cell_type": "code",
      "execution_count": 4,
      "id": "53eb5953",
      "metadata": {
        "id": "53eb5953",
        "outputId": "8b389d71-56c4-4395-a005-60dd02823443",
        "colab": {
          "base_uri": "https://localhost:8080/",
          "height": 206
        }
      },
      "outputs": [
        {
          "output_type": "execute_result",
          "data": {
            "text/plain": [
              "      TV  radio  newspaper  sales\n",
              "0  230.1   37.8       69.2   22.1\n",
              "1   44.5   39.3       45.1   10.4\n",
              "2   17.2   45.9       69.3    9.3\n",
              "3  151.5   41.3       58.5   18.5\n",
              "4  180.8   10.8       58.4   12.9"
            ],
            "text/html": [
              "\n",
              "  <div id=\"df-c91d85ec-f25b-40a7-81e2-9f29e8a6002d\">\n",
              "    <div class=\"colab-df-container\">\n",
              "      <div>\n",
              "<style scoped>\n",
              "    .dataframe tbody tr th:only-of-type {\n",
              "        vertical-align: middle;\n",
              "    }\n",
              "\n",
              "    .dataframe tbody tr th {\n",
              "        vertical-align: top;\n",
              "    }\n",
              "\n",
              "    .dataframe thead th {\n",
              "        text-align: right;\n",
              "    }\n",
              "</style>\n",
              "<table border=\"1\" class=\"dataframe\">\n",
              "  <thead>\n",
              "    <tr style=\"text-align: right;\">\n",
              "      <th></th>\n",
              "      <th>TV</th>\n",
              "      <th>radio</th>\n",
              "      <th>newspaper</th>\n",
              "      <th>sales</th>\n",
              "    </tr>\n",
              "  </thead>\n",
              "  <tbody>\n",
              "    <tr>\n",
              "      <th>0</th>\n",
              "      <td>230.1</td>\n",
              "      <td>37.8</td>\n",
              "      <td>69.2</td>\n",
              "      <td>22.1</td>\n",
              "    </tr>\n",
              "    <tr>\n",
              "      <th>1</th>\n",
              "      <td>44.5</td>\n",
              "      <td>39.3</td>\n",
              "      <td>45.1</td>\n",
              "      <td>10.4</td>\n",
              "    </tr>\n",
              "    <tr>\n",
              "      <th>2</th>\n",
              "      <td>17.2</td>\n",
              "      <td>45.9</td>\n",
              "      <td>69.3</td>\n",
              "      <td>9.3</td>\n",
              "    </tr>\n",
              "    <tr>\n",
              "      <th>3</th>\n",
              "      <td>151.5</td>\n",
              "      <td>41.3</td>\n",
              "      <td>58.5</td>\n",
              "      <td>18.5</td>\n",
              "    </tr>\n",
              "    <tr>\n",
              "      <th>4</th>\n",
              "      <td>180.8</td>\n",
              "      <td>10.8</td>\n",
              "      <td>58.4</td>\n",
              "      <td>12.9</td>\n",
              "    </tr>\n",
              "  </tbody>\n",
              "</table>\n",
              "</div>\n",
              "      <button class=\"colab-df-convert\" onclick=\"convertToInteractive('df-c91d85ec-f25b-40a7-81e2-9f29e8a6002d')\"\n",
              "              title=\"Convert this dataframe to an interactive table.\"\n",
              "              style=\"display:none;\">\n",
              "        \n",
              "  <svg xmlns=\"http://www.w3.org/2000/svg\" height=\"24px\"viewBox=\"0 0 24 24\"\n",
              "       width=\"24px\">\n",
              "    <path d=\"M0 0h24v24H0V0z\" fill=\"none\"/>\n",
              "    <path d=\"M18.56 5.44l.94 2.06.94-2.06 2.06-.94-2.06-.94-.94-2.06-.94 2.06-2.06.94zm-11 1L8.5 8.5l.94-2.06 2.06-.94-2.06-.94L8.5 2.5l-.94 2.06-2.06.94zm10 10l.94 2.06.94-2.06 2.06-.94-2.06-.94-.94-2.06-.94 2.06-2.06.94z\"/><path d=\"M17.41 7.96l-1.37-1.37c-.4-.4-.92-.59-1.43-.59-.52 0-1.04.2-1.43.59L10.3 9.45l-7.72 7.72c-.78.78-.78 2.05 0 2.83L4 21.41c.39.39.9.59 1.41.59.51 0 1.02-.2 1.41-.59l7.78-7.78 2.81-2.81c.8-.78.8-2.07 0-2.86zM5.41 20L4 18.59l7.72-7.72 1.47 1.35L5.41 20z\"/>\n",
              "  </svg>\n",
              "      </button>\n",
              "      \n",
              "  <style>\n",
              "    .colab-df-container {\n",
              "      display:flex;\n",
              "      flex-wrap:wrap;\n",
              "      gap: 12px;\n",
              "    }\n",
              "\n",
              "    .colab-df-convert {\n",
              "      background-color: #E8F0FE;\n",
              "      border: none;\n",
              "      border-radius: 50%;\n",
              "      cursor: pointer;\n",
              "      display: none;\n",
              "      fill: #1967D2;\n",
              "      height: 32px;\n",
              "      padding: 0 0 0 0;\n",
              "      width: 32px;\n",
              "    }\n",
              "\n",
              "    .colab-df-convert:hover {\n",
              "      background-color: #E2EBFA;\n",
              "      box-shadow: 0px 1px 2px rgba(60, 64, 67, 0.3), 0px 1px 3px 1px rgba(60, 64, 67, 0.15);\n",
              "      fill: #174EA6;\n",
              "    }\n",
              "\n",
              "    [theme=dark] .colab-df-convert {\n",
              "      background-color: #3B4455;\n",
              "      fill: #D2E3FC;\n",
              "    }\n",
              "\n",
              "    [theme=dark] .colab-df-convert:hover {\n",
              "      background-color: #434B5C;\n",
              "      box-shadow: 0px 1px 3px 1px rgba(0, 0, 0, 0.15);\n",
              "      filter: drop-shadow(0px 1px 2px rgba(0, 0, 0, 0.3));\n",
              "      fill: #FFFFFF;\n",
              "    }\n",
              "  </style>\n",
              "\n",
              "      <script>\n",
              "        const buttonEl =\n",
              "          document.querySelector('#df-c91d85ec-f25b-40a7-81e2-9f29e8a6002d button.colab-df-convert');\n",
              "        buttonEl.style.display =\n",
              "          google.colab.kernel.accessAllowed ? 'block' : 'none';\n",
              "\n",
              "        async function convertToInteractive(key) {\n",
              "          const element = document.querySelector('#df-c91d85ec-f25b-40a7-81e2-9f29e8a6002d');\n",
              "          const dataTable =\n",
              "            await google.colab.kernel.invokeFunction('convertToInteractive',\n",
              "                                                     [key], {});\n",
              "          if (!dataTable) return;\n",
              "\n",
              "          const docLinkHtml = 'Like what you see? Visit the ' +\n",
              "            '<a target=\"_blank\" href=https://colab.research.google.com/notebooks/data_table.ipynb>data table notebook</a>'\n",
              "            + ' to learn more about interactive tables.';\n",
              "          element.innerHTML = '';\n",
              "          dataTable['output_type'] = 'display_data';\n",
              "          await google.colab.output.renderOutput(dataTable, element);\n",
              "          const docLink = document.createElement('div');\n",
              "          docLink.innerHTML = docLinkHtml;\n",
              "          element.appendChild(docLink);\n",
              "        }\n",
              "      </script>\n",
              "    </div>\n",
              "  </div>\n",
              "  "
            ]
          },
          "metadata": {},
          "execution_count": 4
        }
      ],
      "source": [
        "data = data[data.columns[1:]]\n",
        "data.head()"
      ]
    },
    {
      "cell_type": "code",
      "execution_count": 5,
      "id": "87fa27ee",
      "metadata": {
        "id": "87fa27ee",
        "outputId": "4da47062-409e-4341-e70f-4ce93fbd7e58",
        "colab": {
          "base_uri": "https://localhost:8080/",
          "height": 300
        }
      },
      "outputs": [
        {
          "output_type": "execute_result",
          "data": {
            "text/plain": [
              "               TV       radio   newspaper       sales\n",
              "count  200.000000  200.000000  200.000000  200.000000\n",
              "mean   147.042500   23.264000   30.554000   14.022500\n",
              "std     85.854236   14.846809   21.778621    5.217457\n",
              "min      0.700000    0.000000    0.300000    1.600000\n",
              "25%     74.375000    9.975000   12.750000   10.375000\n",
              "50%    149.750000   22.900000   25.750000   12.900000\n",
              "75%    218.825000   36.525000   45.100000   17.400000\n",
              "max    296.400000   49.600000  114.000000   27.000000"
            ],
            "text/html": [
              "\n",
              "  <div id=\"df-545524b7-f21d-473b-9982-1d4d6979b1b4\">\n",
              "    <div class=\"colab-df-container\">\n",
              "      <div>\n",
              "<style scoped>\n",
              "    .dataframe tbody tr th:only-of-type {\n",
              "        vertical-align: middle;\n",
              "    }\n",
              "\n",
              "    .dataframe tbody tr th {\n",
              "        vertical-align: top;\n",
              "    }\n",
              "\n",
              "    .dataframe thead th {\n",
              "        text-align: right;\n",
              "    }\n",
              "</style>\n",
              "<table border=\"1\" class=\"dataframe\">\n",
              "  <thead>\n",
              "    <tr style=\"text-align: right;\">\n",
              "      <th></th>\n",
              "      <th>TV</th>\n",
              "      <th>radio</th>\n",
              "      <th>newspaper</th>\n",
              "      <th>sales</th>\n",
              "    </tr>\n",
              "  </thead>\n",
              "  <tbody>\n",
              "    <tr>\n",
              "      <th>count</th>\n",
              "      <td>200.000000</td>\n",
              "      <td>200.000000</td>\n",
              "      <td>200.000000</td>\n",
              "      <td>200.000000</td>\n",
              "    </tr>\n",
              "    <tr>\n",
              "      <th>mean</th>\n",
              "      <td>147.042500</td>\n",
              "      <td>23.264000</td>\n",
              "      <td>30.554000</td>\n",
              "      <td>14.022500</td>\n",
              "    </tr>\n",
              "    <tr>\n",
              "      <th>std</th>\n",
              "      <td>85.854236</td>\n",
              "      <td>14.846809</td>\n",
              "      <td>21.778621</td>\n",
              "      <td>5.217457</td>\n",
              "    </tr>\n",
              "    <tr>\n",
              "      <th>min</th>\n",
              "      <td>0.700000</td>\n",
              "      <td>0.000000</td>\n",
              "      <td>0.300000</td>\n",
              "      <td>1.600000</td>\n",
              "    </tr>\n",
              "    <tr>\n",
              "      <th>25%</th>\n",
              "      <td>74.375000</td>\n",
              "      <td>9.975000</td>\n",
              "      <td>12.750000</td>\n",
              "      <td>10.375000</td>\n",
              "    </tr>\n",
              "    <tr>\n",
              "      <th>50%</th>\n",
              "      <td>149.750000</td>\n",
              "      <td>22.900000</td>\n",
              "      <td>25.750000</td>\n",
              "      <td>12.900000</td>\n",
              "    </tr>\n",
              "    <tr>\n",
              "      <th>75%</th>\n",
              "      <td>218.825000</td>\n",
              "      <td>36.525000</td>\n",
              "      <td>45.100000</td>\n",
              "      <td>17.400000</td>\n",
              "    </tr>\n",
              "    <tr>\n",
              "      <th>max</th>\n",
              "      <td>296.400000</td>\n",
              "      <td>49.600000</td>\n",
              "      <td>114.000000</td>\n",
              "      <td>27.000000</td>\n",
              "    </tr>\n",
              "  </tbody>\n",
              "</table>\n",
              "</div>\n",
              "      <button class=\"colab-df-convert\" onclick=\"convertToInteractive('df-545524b7-f21d-473b-9982-1d4d6979b1b4')\"\n",
              "              title=\"Convert this dataframe to an interactive table.\"\n",
              "              style=\"display:none;\">\n",
              "        \n",
              "  <svg xmlns=\"http://www.w3.org/2000/svg\" height=\"24px\"viewBox=\"0 0 24 24\"\n",
              "       width=\"24px\">\n",
              "    <path d=\"M0 0h24v24H0V0z\" fill=\"none\"/>\n",
              "    <path d=\"M18.56 5.44l.94 2.06.94-2.06 2.06-.94-2.06-.94-.94-2.06-.94 2.06-2.06.94zm-11 1L8.5 8.5l.94-2.06 2.06-.94-2.06-.94L8.5 2.5l-.94 2.06-2.06.94zm10 10l.94 2.06.94-2.06 2.06-.94-2.06-.94-.94-2.06-.94 2.06-2.06.94z\"/><path d=\"M17.41 7.96l-1.37-1.37c-.4-.4-.92-.59-1.43-.59-.52 0-1.04.2-1.43.59L10.3 9.45l-7.72 7.72c-.78.78-.78 2.05 0 2.83L4 21.41c.39.39.9.59 1.41.59.51 0 1.02-.2 1.41-.59l7.78-7.78 2.81-2.81c.8-.78.8-2.07 0-2.86zM5.41 20L4 18.59l7.72-7.72 1.47 1.35L5.41 20z\"/>\n",
              "  </svg>\n",
              "      </button>\n",
              "      \n",
              "  <style>\n",
              "    .colab-df-container {\n",
              "      display:flex;\n",
              "      flex-wrap:wrap;\n",
              "      gap: 12px;\n",
              "    }\n",
              "\n",
              "    .colab-df-convert {\n",
              "      background-color: #E8F0FE;\n",
              "      border: none;\n",
              "      border-radius: 50%;\n",
              "      cursor: pointer;\n",
              "      display: none;\n",
              "      fill: #1967D2;\n",
              "      height: 32px;\n",
              "      padding: 0 0 0 0;\n",
              "      width: 32px;\n",
              "    }\n",
              "\n",
              "    .colab-df-convert:hover {\n",
              "      background-color: #E2EBFA;\n",
              "      box-shadow: 0px 1px 2px rgba(60, 64, 67, 0.3), 0px 1px 3px 1px rgba(60, 64, 67, 0.15);\n",
              "      fill: #174EA6;\n",
              "    }\n",
              "\n",
              "    [theme=dark] .colab-df-convert {\n",
              "      background-color: #3B4455;\n",
              "      fill: #D2E3FC;\n",
              "    }\n",
              "\n",
              "    [theme=dark] .colab-df-convert:hover {\n",
              "      background-color: #434B5C;\n",
              "      box-shadow: 0px 1px 3px 1px rgba(0, 0, 0, 0.15);\n",
              "      filter: drop-shadow(0px 1px 2px rgba(0, 0, 0, 0.3));\n",
              "      fill: #FFFFFF;\n",
              "    }\n",
              "  </style>\n",
              "\n",
              "      <script>\n",
              "        const buttonEl =\n",
              "          document.querySelector('#df-545524b7-f21d-473b-9982-1d4d6979b1b4 button.colab-df-convert');\n",
              "        buttonEl.style.display =\n",
              "          google.colab.kernel.accessAllowed ? 'block' : 'none';\n",
              "\n",
              "        async function convertToInteractive(key) {\n",
              "          const element = document.querySelector('#df-545524b7-f21d-473b-9982-1d4d6979b1b4');\n",
              "          const dataTable =\n",
              "            await google.colab.kernel.invokeFunction('convertToInteractive',\n",
              "                                                     [key], {});\n",
              "          if (!dataTable) return;\n",
              "\n",
              "          const docLinkHtml = 'Like what you see? Visit the ' +\n",
              "            '<a target=\"_blank\" href=https://colab.research.google.com/notebooks/data_table.ipynb>data table notebook</a>'\n",
              "            + ' to learn more about interactive tables.';\n",
              "          element.innerHTML = '';\n",
              "          dataTable['output_type'] = 'display_data';\n",
              "          await google.colab.output.renderOutput(dataTable, element);\n",
              "          const docLink = document.createElement('div');\n",
              "          docLink.innerHTML = docLinkHtml;\n",
              "          element.appendChild(docLink);\n",
              "        }\n",
              "      </script>\n",
              "    </div>\n",
              "  </div>\n",
              "  "
            ]
          },
          "metadata": {},
          "execution_count": 5
        }
      ],
      "source": [
        "data.describe()"
      ]
    },
    {
      "cell_type": "code",
      "execution_count": 6,
      "id": "7aa0c873",
      "metadata": {
        "id": "7aa0c873",
        "outputId": "c1c872ae-0e3f-4d55-9b0e-34ab562e7045",
        "colab": {
          "base_uri": "https://localhost:8080/",
          "height": 297
        }
      },
      "outputs": [
        {
          "output_type": "execute_result",
          "data": {
            "text/plain": [
              "Text(0, 0.5, 'Sales')"
            ]
          },
          "metadata": {},
          "execution_count": 6
        },
        {
          "output_type": "display_data",
          "data": {
            "text/plain": [
              "<Figure size 432x288 with 1 Axes>"
            ],
            "image/png": "[encoded data removed]"
          },
          "metadata": {
            "needs_background": "light"
          }
        }
      ],
      "source": [
        "plt.scatter(data['TV'], data['sales'])\n",
        "plt.xlabel('TV')\n",
        "plt.ylabel('Sales')"
      ]
    },
    {
      "cell_type": "markdown",
      "id": "0f029a56",
      "metadata": {
        "id": "0f029a56"
      },
      "source": [
        "# Simple linear regression"
      ]
    },
    {
      "cell_type": "markdown",
      "source": [
        "เป็นวิธีการประมาณ response y โดยใช้ predictor X โดยสมมติให้ความสัมพันธ์ระหว่าง predictor และ response เป็น linear \n",
        "\n",
        "\n",
        "$$ y = \\beta_0 + \\beta_1X $$\n",
        "\n",
        "ทำการ regress y on X, regress y onto X \n",
        "\n",
        "โดย $\\beta_0$ คือ intercept และ $\\beta_1$ คือ slope ของเส้นตรง  โดยตัวแปรเหล่านี้เรียกว่า model coefficients หรือ model parameters \\\n",
        "\n",
        "หลังจากทำการ fit model บน training dataset แล้วจะได้ค่า $\\hat{\\beta_0}, \\hat{\\beta_1}$ ซึ่งเป็นค่า coefficient ที่ถูกประมาณ เพื่อที่จะใช้ในการทำนายค่า $\\hat{y}$ ต่อไป\n",
        "$$ \\hat{y} = \\hat{\\beta_0} + \\hat{\\beta_1}X $$\n",
        "\n",
        "\n",
        "* วิธีการประมาณค่า coefficient ของ model \\\n",
        "  จะทำโดยการหาค่า $\\beta$ ที่ทำให้ $\\|y-\\hat{y}\\|_2^2 = \\|y-X\\hat{\\beta}\\|_2^2 = \\|e\\|_2^2$ มีค่าน้อยที่สุด ซึ่งค่า $y-\\hat{y}$ ก็คือค่า residual ของแบบจำลอง และ $\\|e\\|_2^2$ เรียกว่า Residual Sum Squares (RSS) \\\n",
        "  เนื่องจาก norm เป็น convex function ดังนั้น $\\|y-X\\hat{\\beta}\\|_2^2$ จะมีจุดต่ำสุดที่จุดเดียว จุดใช้วิธีการจับ gradient เทียบ β ให้มีค่าเท่ากับ 0 ซึ่งจะได้ \n",
        "\n",
        "$$ \\hat{β} = (X^TX)^{-1}X^Ty $$\n",
        "\n"
      ],
      "metadata": {
        "id": "5GhoMybFIsp4"
      },
      "id": "5GhoMybFIsp4"
    },
    {
      "cell_type": "code",
      "execution_count": 7,
      "id": "416db96d",
      "metadata": {
        "id": "416db96d",
        "outputId": "4f093f38-ab6d-45ce-e98d-b60fd80a40b7",
        "colab": {
          "base_uri": "https://localhost:8080/"
        }
      },
      "outputs": [
        {
          "output_type": "stream",
          "name": "stdout",
          "text": [
            "                            OLS Regression Results                            \n",
            "==============================================================================\n",
            "Dep. Variable:                  sales   R-squared:                       0.052\n",
            "Model:                            OLS   Adj. R-squared:                  0.047\n",
            "Method:                 Least Squares   F-statistic:                     10.89\n",
            "Date:                Thu, 09 Mar 2023   Prob (F-statistic):            0.00115\n",
            "Time:                        17:19:58   Log-Likelihood:                -608.34\n",
            "No. Observations:                 200   AIC:                             1221.\n",
            "Df Residuals:                     198   BIC:                             1227.\n",
            "Df Model:                           1                                         \n",
            "Covariance Type:            nonrobust                                         \n",
            "==============================================================================\n",
            "                 coef    std err          t      P>|t|      [0.025      0.975]\n",
            "------------------------------------------------------------------------------\n",
            "const         12.3514      0.621     19.876      0.000      11.126      13.577\n",
            "newspaper      0.0547      0.017      3.300      0.001       0.022       0.087\n",
            "==============================================================================\n",
            "Omnibus:                        6.231   Durbin-Watson:                   1.983\n",
            "Prob(Omnibus):                  0.044   Jarque-Bera (JB):                5.483\n",
            "Skew:                           0.330   Prob(JB):                       0.0645\n",
            "Kurtosis:                       2.527   Cond. No.                         64.7\n",
            "==============================================================================\n",
            "\n",
            "Notes:\n",
            "[1] Standard Errors assume that the covariance matrix of the errors is correctly specified.\n",
            "                            OLS Regression Results                            \n",
            "==============================================================================\n",
            "Dep. Variable:                  sales   R-squared:                       0.332\n",
            "Model:                            OLS   Adj. R-squared:                  0.329\n",
            "Method:                 Least Squares   F-statistic:                     98.42\n",
            "Date:                Thu, 09 Mar 2023   Prob (F-statistic):           4.35e-19\n",
            "Time:                        17:19:58   Log-Likelihood:                -573.34\n",
            "No. Observations:                 200   AIC:                             1151.\n",
            "Df Residuals:                     198   BIC:                             1157.\n",
            "Df Model:                           1                                         \n",
            "Covariance Type:            nonrobust                                         \n",
            "==============================================================================\n",
            "                 coef    std err          t      P>|t|      [0.025      0.975]\n",
            "------------------------------------------------------------------------------\n",
            "const          9.3116      0.563     16.542      0.000       8.202      10.422\n",
            "radio          0.2025      0.020      9.921      0.000       0.162       0.243\n",
            "==============================================================================\n",
            "Omnibus:                       19.358   Durbin-Watson:                   1.946\n",
            "Prob(Omnibus):                  0.000   Jarque-Bera (JB):               21.910\n",
            "Skew:                          -0.764   Prob(JB):                     1.75e-05\n",
            "Kurtosis:                       3.544   Cond. No.                         51.4\n",
            "==============================================================================\n",
            "\n",
            "Notes:\n",
            "[1] Standard Errors assume that the covariance matrix of the errors is correctly specified.\n",
            "                            OLS Regression Results                            \n",
            "==============================================================================\n",
            "Dep. Variable:                  sales   R-squared:                       0.612\n",
            "Model:                            OLS   Adj. R-squared:                  0.610\n",
            "Method:                 Least Squares   F-statistic:                     312.1\n",
            "Date:                Thu, 09 Mar 2023   Prob (F-statistic):           1.47e-42\n",
            "Time:                        17:19:58   Log-Likelihood:                -519.05\n",
            "No. Observations:                 200   AIC:                             1042.\n",
            "Df Residuals:                     198   BIC:                             1049.\n",
            "Df Model:                           1                                         \n",
            "Covariance Type:            nonrobust                                         \n",
            "==============================================================================\n",
            "                 coef    std err          t      P>|t|      [0.025      0.975]\n",
            "------------------------------------------------------------------------------\n",
            "const          7.0326      0.458     15.360      0.000       6.130       7.935\n",
            "TV             0.0475      0.003     17.668      0.000       0.042       0.053\n",
            "==============================================================================\n",
            "Omnibus:                        0.531   Durbin-Watson:                   1.935\n",
            "Prob(Omnibus):                  0.767   Jarque-Bera (JB):                0.669\n",
            "Skew:                          -0.089   Prob(JB):                        0.716\n",
            "Kurtosis:                       2.779   Cond. No.                         338.\n",
            "==============================================================================\n",
            "\n",
            "Notes:\n",
            "[1] Standard Errors assume that the covariance matrix of the errors is correctly specified.\n"
          ]
        }
      ],
      "source": [
        "x_new = data['newspaper']\n",
        "x_new = sm.add_constant(x_new)\n",
        "model_new = sm.OLS(data['sales'], x_new)\n",
        "result_new = model_new.fit()\n",
        "print(result_new.summary())\n",
        "\n",
        "x_rad = data['radio']\n",
        "x_rad = sm.add_constant(x_rad)\n",
        "model_rad = sm.OLS(data['sales'], x_rad)\n",
        "result_rad = model_rad.fit()\n",
        "print(result_rad.summary())\n",
        "\n",
        "x_tv = data['TV']\n",
        "x_tv = sm.add_constant(x_tv)\n",
        "model_tv = sm.OLS(data['sales'], x_tv)\n",
        "result_tv = model_tv.fit()\n",
        "print(result_tv.summary())"
      ]
    },
    {
      "cell_type": "markdown",
      "id": "352f981b",
      "metadata": {
        "id": "352f981b"
      },
      "source": [
        "* $\\textbf{Hypothesis Test on the coefficient (testing null hypothesis)}$ \\\n",
        "$H_0$ คือสมมติฐานที่บอกว่าไม่มีความสัมพันธ์ระหว่าง X และ Y \\\n",
        "$H_1$ คือสมมติฐานที่บอกว่ามีความสัมพันธ์ระหว่าง X และ Y \\\n",
        "\\\n",
        "$\\text{Mathematically, this is corresponding to testing }$\n",
        "$$H_0: \\beta_1 = 0 \\text{ vs } H_1: \\beta_1 \\neq 0 $$\n",
        "\\\n",
        "เราจะทดสอบโดยการตรวจสอบว่า $\\hat{\\beta}_1$ นั้นมีค่าที่ไกลกว่า 0 อย่าง significant โดยเราะพิจารณาจากค่า standard error ของ $\\hat{\\beta}, SE(\\hat{\\beta})$ (standard error อย่างคร่าวๆ คือค่าที่บอกว่าค่า $\\hat{\\beta}$ ที่ประมาณมาได้นั้นคลาดเคลื่อนโดยเฉลี่ยจากค่าจริงเท่าไหร่) ดังนั้นเมื่อค่า $SE(\\hat{\\beta})$ มีค่าน้อยทำให้ แม้แต่ค่าของ $\\hat{\\beta}$ ที่มีค่าน้อยก็ยังทำให้ $ \\beta_1 \\neq 0$ [เมื่อค่า standard error มีค่าน้อยแสดงว่าค่าที่ประมาณออกมาได้มีความคลาดเคลื่อนน้อย ดังนั้นแม้แต่ค่าของ $\\beta_1$ ที่มีค่าน้อยก็อาจมีความสำคัญ] โดยจะใช้ค่า \n",
        "$$ t-statistic: t = \\frac{\\hat{\\beta_1}-0}{SE(\\hat{\\beta_1})} $$\n",
        "เป็นตัวบ่งชี้ว่าค่า $\\hat{\\beta}$ นั้นมีค่าที่ไม่เท่ากับ 0 อย่างมีนัยสำคัญ โดย t distribution จะมีรูปร่างคล้ายกับ normal distribution โดยจะให้ความน่าจะเป็นที่ค่า $t \\ge |T|$ เรียกความน่าจะเป็นนี้ว่า p-value $$p-value = P(t \\ge |T|)$$ ยิ่ง p-value มีค่ามากแสดงว่าค่า $t$ จะมีค่าน้อยซึ่งหมายความว่า $\\frac{\\hat{\\beta_1}-0}{SE(\\hat{\\beta_1})}$ มีค่าน้อย ดังนั้นจึงสรุปได้ว่า accept null hypothesis หรือบอกได้ว่า $\\beta_1 = 0$ \\\n",
        "$\\textbf{For a small p-value, we can infer that there is an association between the predictor and response. So we reject null hypothesis.}$ \\\n",
        "ค่า threshold ที่ใช้บอกว่า p-value มากหรือน้อยเกินไปจะใช้ค่า 0.05 หรือ 0.01 \\\n",
        "ดังนั้นจากตัวอย่างนี้ predictor TV advertising จะมีความสำคัญต่อแบบจำลอง\n",
        "\n",
        "* $\\textbf{$R^2$}$ $\\textbf{score}$ \\\n",
        "เป็นตัวชี้วัดอย่างหนึ่ง ที่ใช้วัดความสามารถของแบบจำลองโดยคำนวณได้ดังนี้\n",
        "$$ R^2 = \\frac{TSS-RSS}{TSS} = 1 - \\frac{RSS}{TSS} $$\n",
        "โดย $RSS = \\sum(y_i - \\hat{y})^2, TSS = \\sum(y_i-\\bar{y})^2$ \\\n",
        "TSS เป็นค่า variance ของ y สามารถพิจารณาได้เป็นค่าความเปลี่ยนแปลงของค่า y ก่อนที่จะทำการ regression และ RSS เป็นค่าความเปลี่ยนแปลงที่ไม่สามารถอธิบายได้หลังจากทำ regression แล้ว ดังนั้น $R^2$ คือสัดส่วนของความไม่แน่นอนใน Y ซึ่งสามารถถูกอธิบายได้โดย X\n",
        "$\\textbf{If $R^2$ is close to 1, then it indicates that a large propotion of variability in the response is explained by the regression. }$"
      ]
    },
    {
      "cell_type": "markdown",
      "id": "060b7c0e",
      "metadata": {
        "id": "060b7c0e"
      },
      "source": [
        "# Multiple Regression\n",
        "\n",
        "$Y = \\beta_0 + \\beta_1X_1 + \\beta_2X_2 + ... + \\beta_nX_n + \\epsilon$  \n",
        "\n",
        "where $X_j$ represents the j predictor and $\\beta_j$ quantifies the association between variable and response.\n",
        "\n",
        "$\\hat{\\beta}$ can be computed by using the fact that we want to minimize least square error which is $\\|y-\\hat{\\beta}X\\|_2^2$. From using zero gradient condition,The result is $ \\hat{\\beta} = (X^TX)^{-1}X^Ty $\n",
        "\n",
        "* ทำไมถึงต้อง fit multiplr linear regression? \n",
        "  1. เกิดความไม่แน่ชัดในการทำนายค่า $\\hat{y}$ จากการใช้ predictor ทั้งสามตัวแต่ linear regression ที่เป็นคนละสมการ\n",
        "  2. ในการ form สมการที่เกิดจากการ fit ทีละตัวแปรจะไม่นำผลของ predictor ตัวอื่นมาคิดด้วย ซึ่งจะเกิดผลลัพธ์ที่ไม่สามารถเชื่อถือได้ในกรณีที่ predictor ทั้ง 2 ตัวมี correlation กัน\n",
        "\n"
      ]
    },
    {
      "cell_type": "code",
      "execution_count": 8,
      "id": "57c68aa5",
      "metadata": {
        "id": "57c68aa5",
        "outputId": "963cec98-c32d-4cd3-9bf9-db05070f3736",
        "colab": {
          "base_uri": "https://localhost:8080/"
        }
      },
      "outputs": [
        {
          "output_type": "stream",
          "name": "stdout",
          "text": [
            "                            OLS Regression Results                            \n",
            "==============================================================================\n",
            "Dep. Variable:                  sales   R-squared:                       0.897\n",
            "Model:                            OLS   Adj. R-squared:                  0.896\n",
            "Method:                 Least Squares   F-statistic:                     570.3\n",
            "Date:                Thu, 09 Mar 2023   Prob (F-statistic):           1.58e-96\n",
            "Time:                        17:24:57   Log-Likelihood:                -386.18\n",
            "No. Observations:                 200   AIC:                             780.4\n",
            "Df Residuals:                     196   BIC:                             793.6\n",
            "Df Model:                           3                                         \n",
            "Covariance Type:            nonrobust                                         \n",
            "==============================================================================\n",
            "                 coef    std err          t      P>|t|      [0.025      0.975]\n",
            "------------------------------------------------------------------------------\n",
            "const          2.9389      0.312      9.422      0.000       2.324       3.554\n",
            "TV             0.0458      0.001     32.809      0.000       0.043       0.049\n",
            "radio          0.1885      0.009     21.893      0.000       0.172       0.206\n",
            "newspaper     -0.0010      0.006     -0.177      0.860      -0.013       0.011\n",
            "==============================================================================\n",
            "Omnibus:                       60.414   Durbin-Watson:                   2.084\n",
            "Prob(Omnibus):                  0.000   Jarque-Bera (JB):              151.241\n",
            "Skew:                          -1.327   Prob(JB):                     1.44e-33\n",
            "Kurtosis:                       6.332   Cond. No.                         454.\n",
            "==============================================================================\n",
            "\n",
            "Notes:\n",
            "[1] Standard Errors assume that the covariance matrix of the errors is correctly specified.\n"
          ]
        }
      ],
      "source": [
        "x_mul = data[data.columns[0:3]]\n",
        "x_mul = sm.add_constant(x_mul)\n",
        "model_mul = sm.OLS(data['sales'], x_mul)\n",
        "result_mul = model_mul.fit()\n",
        "print(result_mul.summary())"
      ]
    },
    {
      "cell_type": "code",
      "execution_count": 9,
      "id": "bbf2d55a",
      "metadata": {
        "id": "bbf2d55a",
        "outputId": "2fc42b91-c473-4a57-88d8-cff221df13d7",
        "colab": {
          "base_uri": "https://localhost:8080/",
          "height": 175
        }
      },
      "outputs": [
        {
          "output_type": "execute_result",
          "data": {
            "text/plain": [
              "                 TV     radio  newspaper     sales\n",
              "TV         1.000000  0.054809   0.056648  0.782224\n",
              "radio      0.054809  1.000000   0.354104  0.576223\n",
              "newspaper  0.056648  0.354104   1.000000  0.228299\n",
              "sales      0.782224  0.576223   0.228299  1.000000"
            ],
            "text/html": [
              "\n",
              "  <div id=\"df-1736e667-7a62-4379-8f9f-444501520329\">\n",
              "    <div class=\"colab-df-container\">\n",
              "      <div>\n",
              "<style scoped>\n",
              "    .dataframe tbody tr th:only-of-type {\n",
              "        vertical-align: middle;\n",
              "    }\n",
              "\n",
              "    .dataframe tbody tr th {\n",
              "        vertical-align: top;\n",
              "    }\n",
              "\n",
              "    .dataframe thead th {\n",
              "        text-align: right;\n",
              "    }\n",
              "</style>\n",
              "<table border=\"1\" class=\"dataframe\">\n",
              "  <thead>\n",
              "    <tr style=\"text-align: right;\">\n",
              "      <th></th>\n",
              "      <th>TV</th>\n",
              "      <th>radio</th>\n",
              "      <th>newspaper</th>\n",
              "      <th>sales</th>\n",
              "    </tr>\n",
              "  </thead>\n",
              "  <tbody>\n",
              "    <tr>\n",
              "      <th>TV</th>\n",
              "      <td>1.000000</td>\n",
              "      <td>0.054809</td>\n",
              "      <td>0.056648</td>\n",
              "      <td>0.782224</td>\n",
              "    </tr>\n",
              "    <tr>\n",
              "      <th>radio</th>\n",
              "      <td>0.054809</td>\n",
              "      <td>1.000000</td>\n",
              "      <td>0.354104</td>\n",
              "      <td>0.576223</td>\n",
              "    </tr>\n",
              "    <tr>\n",
              "      <th>newspaper</th>\n",
              "      <td>0.056648</td>\n",
              "      <td>0.354104</td>\n",
              "      <td>1.000000</td>\n",
              "      <td>0.228299</td>\n",
              "    </tr>\n",
              "    <tr>\n",
              "      <th>sales</th>\n",
              "      <td>0.782224</td>\n",
              "      <td>0.576223</td>\n",
              "      <td>0.228299</td>\n",
              "      <td>1.000000</td>\n",
              "    </tr>\n",
              "  </tbody>\n",
              "</table>\n",
              "</div>\n",
              "      <button class=\"colab-df-convert\" onclick=\"convertToInteractive('df-1736e667-7a62-4379-8f9f-444501520329')\"\n",
              "              title=\"Convert this dataframe to an interactive table.\"\n",
              "              style=\"display:none;\">\n",
              "        \n",
              "  <svg xmlns=\"http://www.w3.org/2000/svg\" height=\"24px\"viewBox=\"0 0 24 24\"\n",
              "       width=\"24px\">\n",
              "    <path d=\"M0 0h24v24H0V0z\" fill=\"none\"/>\n",
              "    <path d=\"M18.56 5.44l.94 2.06.94-2.06 2.06-.94-2.06-.94-.94-2.06-.94 2.06-2.06.94zm-11 1L8.5 8.5l.94-2.06 2.06-.94-2.06-.94L8.5 2.5l-.94 2.06-2.06.94zm10 10l.94 2.06.94-2.06 2.06-.94-2.06-.94-.94-2.06-.94 2.06-2.06.94z\"/><path d=\"M17.41 7.96l-1.37-1.37c-.4-.4-.92-.59-1.43-.59-.52 0-1.04.2-1.43.59L10.3 9.45l-7.72 7.72c-.78.78-.78 2.05 0 2.83L4 21.41c.39.39.9.59 1.41.59.51 0 1.02-.2 1.41-.59l7.78-7.78 2.81-2.81c.8-.78.8-2.07 0-2.86zM5.41 20L4 18.59l7.72-7.72 1.47 1.35L5.41 20z\"/>\n",
              "  </svg>\n",
              "      </button>\n",
              "      \n",
              "  <style>\n",
              "    .colab-df-container {\n",
              "      display:flex;\n",
              "      flex-wrap:wrap;\n",
              "      gap: 12px;\n",
              "    }\n",
              "\n",
              "    .colab-df-convert {\n",
              "      background-color: #E8F0FE;\n",
              "      border: none;\n",
              "      border-radius: 50%;\n",
              "      cursor: pointer;\n",
              "      display: none;\n",
              "      fill: #1967D2;\n",
              "      height: 32px;\n",
              "      padding: 0 0 0 0;\n",
              "      width: 32px;\n",
              "    }\n",
              "\n",
              "    .colab-df-convert:hover {\n",
              "      background-color: #E2EBFA;\n",
              "      box-shadow: 0px 1px 2px rgba(60, 64, 67, 0.3), 0px 1px 3px 1px rgba(60, 64, 67, 0.15);\n",
              "      fill: #174EA6;\n",
              "    }\n",
              "\n",
              "    [theme=dark] .colab-df-convert {\n",
              "      background-color: #3B4455;\n",
              "      fill: #D2E3FC;\n",
              "    }\n",
              "\n",
              "    [theme=dark] .colab-df-convert:hover {\n",
              "      background-color: #434B5C;\n",
              "      box-shadow: 0px 1px 3px 1px rgba(0, 0, 0, 0.15);\n",
              "      filter: drop-shadow(0px 1px 2px rgba(0, 0, 0, 0.3));\n",
              "      fill: #FFFFFF;\n",
              "    }\n",
              "  </style>\n",
              "\n",
              "      <script>\n",
              "        const buttonEl =\n",
              "          document.querySelector('#df-1736e667-7a62-4379-8f9f-444501520329 button.colab-df-convert');\n",
              "        buttonEl.style.display =\n",
              "          google.colab.kernel.accessAllowed ? 'block' : 'none';\n",
              "\n",
              "        async function convertToInteractive(key) {\n",
              "          const element = document.querySelector('#df-1736e667-7a62-4379-8f9f-444501520329');\n",
              "          const dataTable =\n",
              "            await google.colab.kernel.invokeFunction('convertToInteractive',\n",
              "                                                     [key], {});\n",
              "          if (!dataTable) return;\n",
              "\n",
              "          const docLinkHtml = 'Like what you see? Visit the ' +\n",
              "            '<a target=\"_blank\" href=https://colab.research.google.com/notebooks/data_table.ipynb>data table notebook</a>'\n",
              "            + ' to learn more about interactive tables.';\n",
              "          element.innerHTML = '';\n",
              "          dataTable['output_type'] = 'display_data';\n",
              "          await google.colab.output.renderOutput(dataTable, element);\n",
              "          const docLink = document.createElement('div');\n",
              "          docLink.innerHTML = docLinkHtml;\n",
              "          element.appendChild(docLink);\n",
              "        }\n",
              "      </script>\n",
              "    </div>\n",
              "  </div>\n",
              "  "
            ]
          },
          "metadata": {},
          "execution_count": 9
        }
      ],
      "source": [
        "data.corr()"
      ]
    },
    {
      "cell_type": "markdown",
      "id": "b062ae38",
      "metadata": {
        "id": "b062ae38"
      },
      "source": [
        "- จากผลลัพธ์จะพบว่า newspaper มีค่า p-value ที่สูงซึ่งหมายถึง predictor newspaper ไม่มีความสำคัญต่อแบบจำลอง ซึ่งเมื่อพิจารณาในกรณี fit regression แค่ตัวแปรเดียวจะพบว่า newspaper มีความสำคัญต่อ model ซึ่งเรื่องนี้สามารถอธิบายได้ด้วย correlation matrix จะพบว่าค่า correlation ระหว่าง radio และ newspaper มีค่า 0.3541 ซึ่งหมายความว่าเมื่อเพิ่ม radio ตัวแปร newspaper ก็จะเพิ่มด้วย และเมื่อการ fit multiple linear regression นั้นถูกต้อง จะพบว่า newspaper ไม่สำคัญกับ sales แต่ radio สำคัญ ดังนั้นเมื่อเพิ่มค่า radio จะทำให้ sales เพิ่ม และ newspaper ก็เพิ่ม \\\n",
        "- ดังนั้นในกรณี simple linear regression ที่ newspaper ยิ่งมีค่ามาก sales ยิ่งเพิ่มขึ้น ถึงแม้ว่า newspaper จะไม่ได้สัมพันธ์กับค่า sales โดยตรง ซึ่งในกรณีนี้ newspaper เป็นเพียงตัวแทนของ radio เท่านั้น\n"
      ]
    },
    {
      "cell_type": "code",
      "execution_count": 15,
      "id": "8a50183b",
      "metadata": {
        "id": "8a50183b",
        "outputId": "b7c01965-1fb1-4aeb-ed68-e107bb34e796",
        "colab": {
          "base_uri": "https://localhost:8080/"
        }
      },
      "outputs": [
        {
          "output_type": "stream",
          "name": "stdout",
          "text": [
            "                            OLS Regression Results                            \n",
            "==============================================================================\n",
            "Dep. Variable:                  sales   R-squared:                       0.897\n",
            "Model:                            OLS   Adj. R-squared:                  0.896\n",
            "Method:                 Least Squares   F-statistic:                     570.3\n",
            "Date:                Thu, 09 Mar 2023   Prob (F-statistic):           1.58e-96\n",
            "Time:                        17:33:53   Log-Likelihood:                -386.18\n",
            "No. Observations:                 200   AIC:                             780.4\n",
            "Df Residuals:                     196   BIC:                             793.6\n",
            "Df Model:                           3                                         \n",
            "Covariance Type:            nonrobust                                         \n",
            "==============================================================================\n",
            "                 coef    std err          t      P>|t|      [0.025      0.975]\n",
            "------------------------------------------------------------------------------\n",
            "const          2.9389      0.312      9.422      0.000       2.324       3.554\n",
            "TV             0.0458      0.001     32.809      0.000       0.043       0.049\n",
            "radio          0.1885      0.009     21.893      0.000       0.172       0.206\n",
            "newspaper     -0.0010      0.006     -0.177      0.860      -0.013       0.011\n",
            "==============================================================================\n",
            "Omnibus:                       60.414   Durbin-Watson:                   2.084\n",
            "Prob(Omnibus):                  0.000   Jarque-Bera (JB):              151.241\n",
            "Skew:                          -1.327   Prob(JB):                     1.44e-33\n",
            "Kurtosis:                       6.332   Cond. No.                         454.\n",
            "==============================================================================\n",
            "\n",
            "Notes:\n",
            "[1] Standard Errors assume that the covariance matrix of the errors is correctly specified.\n"
          ]
        }
      ],
      "source": [
        "x_mul = data[data.columns[0:3]]\n",
        "x_mul = sm.add_constant(x_mul)\n",
        "model_mul = sm.OLS(data['sales'], x_mul)\n",
        "result_mul = model_mul.fit()\n",
        "print(result_mul.summary())\n",
        "coef = result_mul.params\n",
        "rss = np.linalg.norm(result_mul.predict(x_mul)-data['sales'].to_numpy())**2"
      ]
    },
    {
      "cell_type": "markdown",
      "id": "cd1c39b3",
      "metadata": {
        "id": "cd1c39b3"
      },
      "source": [
        "Important Question\n",
        "* ในกลุ่ม predictor ที่เลือกใช้ มีอย่างน้อยสัก 1 ตัวที่มีประโยชน์(significant) ในการช่วยทำนาย response y หรือเปล่า? \\\n",
        "    Hypothesis test to all predictor \n",
        "    $$ H_0: \\beta_1 = \\beta_2 = ... = \\beta_p = 0 $$ \\\n",
        "    versus alternative \\\n",
        "    $$ H_a: \\text{at least } \\beta_j \\text{ is non-zeros} $$\n",
        "    This hypothesis test is performed by F-statistic.\n",
        "    $$ F = \\frac{(TSS - RSS)/p}{RSS/(n-p-1)} $$\n",
        "    $ TSS = \\sum(y_i-\\bar{y})^2$ and $RSS = \\sum(y_i-\\hat{y_i})^2$ \\\n",
        "    \n",
        "    เนื่องจาก TSS หรือเรียกว่า total sum square คือ  variance ของ residual ที่เกิดจากการใช้ค่า mean มาอธิบาย model ซึ่งค่านี้เหมือนเป็น baseline ที่ต่ำที่สุดที่ model อื่นที่จะใช้ทำนายค่า $\\hat{y}$ ควรจะทำได้ดีกว่า และ RSS (residual sum square) คือค่า variance ของ residual ที่เกิดจาก model ดังนั้น เมื่อนำ TSS และ RSS ควรจะเป็นค่าที่ไม่ใกล้เคียงกัน ดังนั้น เมื่อ F-statistic มีค่าเข้าใกล้เคียง 1 จึงสามารถสรุปได้ว่า accept $H_0$ \n",
        "    ซึ่งค่า $n-p-1$ และ $p$ เป็น parameter ที่ใส่ไปใน F-statistic เพื่อให้ได้ค่า critical value ในการตัดสินใจว่าควรจะ accept หรือ reject $H_0$ สามารถหาค่า critical value ได้จาก: https://www.danielsoper.com/statcalc/calculator.aspx?id=4 โดย degree of freedom คือ 3, 196 ในตัวอย่างด้านล่าง\n",
        "    * ในกรณีที่ต้องการตรวจสอบ predictors แค่บางกลุ่มว่าเป็น 0 หรือมี Hypothesis ดังนี้\n",
        "    $$ H_0: \\beta_{p-q+1} = \\beta_{p-q+2} = ... = \\beta_q = 0$$ \n",
        "    ในกรณีนี้ค่า F-statistic ที่เหมาะสมคือ $$ F = \\frac{(RSS_0 - RSS) / q}{RSS/(n-q-1)} $$ โดย $RSS_0$ คือ residual sum square ของ model ที่ fit โดยไม่ได้รวม q predictors นั้น \\\n",
        "    ปรากฎว่าค่า F-test ของ model ที่มีการดึง predictor ตัวนึงออก จะไปเท่ากับค่า t-statistic ที่ fit โดย multiple regression  ซึ่งค่านี้จะบอกผลกระทบของการเพิ่มตัวแปรนี้เข้าไปในแบบจำลองนั่นเอง\n",
        "\n",
        "* Do all the predictors help to explain Y? \\\n",
        "    Variable Selection --> foward selection, backward selection and using model selection score to decide which predictors should we use.\n",
        "* How well does model fit the data? \\\n",
        "  $R^{2}$ score\n"
      ]
    },
    {
      "cell_type": "code",
      "source": [
        "def fit_model(x_mul, const=1):\n",
        "  if const == 1:\n",
        "    x_mul = sm.add_constant(x_mul)\n",
        "  model_mul = sm.OLS(data['sales'], x_mul)\n",
        "  result_mul = model_mul.fit()\n",
        "  coef = result_mul.params\n",
        "  rss_0 = np.linalg.norm(result_mul.predict(x_mul)-data['sales'].to_numpy(),2)**2\n",
        "  return rss_0\n",
        "rss_0_const = fit_model(data[data.columns[0:3]],0)\n",
        "f_except_const = np.sqrt((rss_0_const - rss)/(rss/(200-3-1)))\n",
        "rss_0_tv = fit_model(data[data.columns[[1,2]]])\n",
        "f_except_tv = np.sqrt((rss_0_tv - rss)/(rss/(200-3-1)))\n",
        "rss_0_rad = fit_model(data[data.columns[[0,2]]])\n",
        "f_except_rad = np.sqrt((rss_0_rad - rss)/(rss/(200-3-1)))\n",
        "rss_0_news = fit_model(data[data.columns[[0,1]]])\n",
        "f_except_news = np.sqrt((rss_0_news - rss)/(rss/(200-3-1)))\n",
        "print('F-test that omits the constant from the model is',np.round(f_except_const,3))\n",
        "print('F-test that omits the TV from the model is',np.round(f_except_tv,3))\n",
        "print('F-test that omits the radio from the model is',np.round(f_except_rad,3))\n",
        "print('F-test that omits the news from the model is',np.round(f_except_news,3))"
      ],
      "metadata": {
        "colab": {
          "base_uri": "https://localhost:8080/"
        },
        "id": "KJVooVA5bf3B",
        "outputId": "30270bc8-927b-41f5-da5e-916059c1f8bf"
      },
      "id": "KJVooVA5bf3B",
      "execution_count": 69,
      "outputs": [
        {
          "output_type": "stream",
          "name": "stdout",
          "text": [
            "F-test that omits the constant from the model is 9.422\n",
            "F-test that omits the TV from the model is 32.809\n",
            "F-test that omits the radio from the model is 21.893\n",
            "F-test that omits the news from the model is 0.177\n"
          ]
        }
      ]
    },
    {
      "cell_type": "code",
      "execution_count": 16,
      "id": "8946bba5",
      "metadata": {
        "id": "8946bba5",
        "outputId": "f87ac18d-6791-47b0-a34a-b1e556584251",
        "colab": {
          "base_uri": "https://localhost:8080/",
          "height": 259
        }
      },
      "outputs": [
        {
          "output_type": "display_data",
          "data": {
            "text/plain": [
              "<Figure size 432x288 with 1 Axes>"
            ],
            "image/png": "[encoded data removed]"
          },
          "metadata": {
            "needs_background": "light"
          }
        }
      ],
      "source": [
        "fig = plt.figure()\n",
        "ax = plt.axes(projection='3d')\n",
        "# Make data.\n",
        "X = np.arange(0, 300, 0.5)\n",
        "Y = np.arange(0, 50, 0.5)\n",
        "X, Y = np.meshgrid(X, Y)\n",
        "Z = coef['const'] + coef['TV']*X + coef['radio']*Y\n",
        "\n",
        "# Plot the surface.\n",
        "surf = ax.plot_surface(X, Y, Z, cmap=cm.coolwarm)\n",
        "\n",
        "ax.scatter3D(data['TV'], data['radio'], data['sales']);\n",
        "ax.set_xlabel('TV')\n",
        "ax.set_ylabel('radio')\n",
        "ax.set_zlabel('sales')\n",
        "plt.show()"
      ]
    },
    {
      "cell_type": "code",
      "execution_count": null,
      "id": "14fe9077",
      "metadata": {
        "id": "14fe9077",
        "outputId": "f4a3f63a-f056-4320-86da-86fd6a903924"
      },
      "outputs": [
        {
          "data": {
            "text/html": [
              "<div>\n",
              "<style scoped>\n",
              "    .dataframe tbody tr th:only-of-type {\n",
              "        vertical-align: middle;\n",
              "    }\n",
              "\n",
              "    .dataframe tbody tr th {\n",
              "        vertical-align: top;\n",
              "    }\n",
              "\n",
              "    .dataframe thead th {\n",
              "        text-align: right;\n",
              "    }\n",
              "</style>\n",
              "<table border=\"1\" class=\"dataframe\">\n",
              "  <thead>\n",
              "    <tr style=\"text-align: right;\">\n",
              "      <th></th>\n",
              "      <th>TV</th>\n",
              "      <th>radio</th>\n",
              "      <th>newspaper</th>\n",
              "      <th>sales</th>\n",
              "      <th>Tv*radio</th>\n",
              "    </tr>\n",
              "  </thead>\n",
              "  <tbody>\n",
              "    <tr>\n",
              "      <th>0</th>\n",
              "      <td>230.1</td>\n",
              "      <td>37.8</td>\n",
              "      <td>69.2</td>\n",
              "      <td>22.1</td>\n",
              "      <td>8697.78</td>\n",
              "    </tr>\n",
              "    <tr>\n",
              "      <th>1</th>\n",
              "      <td>44.5</td>\n",
              "      <td>39.3</td>\n",
              "      <td>45.1</td>\n",
              "      <td>10.4</td>\n",
              "      <td>1748.85</td>\n",
              "    </tr>\n",
              "    <tr>\n",
              "      <th>2</th>\n",
              "      <td>17.2</td>\n",
              "      <td>45.9</td>\n",
              "      <td>69.3</td>\n",
              "      <td>9.3</td>\n",
              "      <td>789.48</td>\n",
              "    </tr>\n",
              "    <tr>\n",
              "      <th>3</th>\n",
              "      <td>151.5</td>\n",
              "      <td>41.3</td>\n",
              "      <td>58.5</td>\n",
              "      <td>18.5</td>\n",
              "      <td>6256.95</td>\n",
              "    </tr>\n",
              "    <tr>\n",
              "      <th>4</th>\n",
              "      <td>180.8</td>\n",
              "      <td>10.8</td>\n",
              "      <td>58.4</td>\n",
              "      <td>12.9</td>\n",
              "      <td>1952.64</td>\n",
              "    </tr>\n",
              "  </tbody>\n",
              "</table>\n",
              "</div>"
            ],
            "text/plain": [
              "      TV  radio  newspaper  sales  Tv*radio\n",
              "0  230.1   37.8       69.2   22.1   8697.78\n",
              "1   44.5   39.3       45.1   10.4   1748.85\n",
              "2   17.2   45.9       69.3    9.3    789.48\n",
              "3  151.5   41.3       58.5   18.5   6256.95\n",
              "4  180.8   10.8       58.4   12.9   1952.64"
            ]
          },
          "execution_count": 29,
          "metadata": {},
          "output_type": "execute_result"
        }
      ],
      "source": [
        "data['Tv*radio'] = data['TV'] * data['radio']\n",
        "data.head()"
      ]
    },
    {
      "cell_type": "code",
      "execution_count": null,
      "id": "bbec787d",
      "metadata": {
        "id": "bbec787d",
        "outputId": "734bb261-b4d3-473c-a7b9-fab74f908fed"
      },
      "outputs": [
        {
          "name": "stdout",
          "output_type": "stream",
          "text": [
            "                            OLS Regression Results                            \n",
            "==============================================================================\n",
            "Dep. Variable:                  sales   R-squared:                       0.968\n",
            "Model:                            OLS   Adj. R-squared:                  0.967\n",
            "Method:                 Least Squares   F-statistic:                     1963.\n",
            "Date:                Thu, 02 Mar 2023   Prob (F-statistic):          6.68e-146\n",
            "Time:                        15:37:09   Log-Likelihood:                -270.14\n",
            "No. Observations:                 200   AIC:                             548.3\n",
            "Df Residuals:                     196   BIC:                             561.5\n",
            "Df Model:                           3                                         \n",
            "Covariance Type:            nonrobust                                         \n",
            "==============================================================================\n",
            "                 coef    std err          t      P>|t|      [0.025      0.975]\n",
            "------------------------------------------------------------------------------\n",
            "const          6.7502      0.248     27.233      0.000       6.261       7.239\n",
            "TV             0.0191      0.002     12.699      0.000       0.016       0.022\n",
            "radio          0.0289      0.009      3.241      0.001       0.011       0.046\n",
            "Tv*radio       0.0011   5.24e-05     20.727      0.000       0.001       0.001\n",
            "==============================================================================\n",
            "Omnibus:                      128.132   Durbin-Watson:                   2.224\n",
            "Prob(Omnibus):                  0.000   Jarque-Bera (JB):             1183.719\n",
            "Skew:                          -2.323   Prob(JB):                    9.09e-258\n",
            "Kurtosis:                      13.975   Cond. No.                     1.80e+04\n",
            "==============================================================================\n",
            "\n",
            "Notes:\n",
            "[1] Standard Errors assume that the covariance matrix of the errors is correctly specified.\n",
            "[2] The condition number is large, 1.8e+04. This might indicate that there are\n",
            "strong multicollinearity or other numerical problems.\n"
          ]
        }
      ],
      "source": [
        "x_mul = data[['TV','radio', 'Tv*radio']]\n",
        "x_mul = sm.add_constant(x_mul)\n",
        "model_mul = sm.OLS(data['sales'], x_mul)\n",
        "result_mul = model_mul.fit()\n",
        "print(result_mul.summary())"
      ]
    },
    {
      "cell_type": "markdown",
      "id": "0c460acc",
      "metadata": {
        "id": "0c460acc"
      },
      "source": [
        "# Collinearlity\n",
        "\n",
        "* เกิดจากการที่ predictor อย่างน้อยสองตัว highly correlate กัน\n",
        "\n",
        "* ปัญหาคือ ทำให้เราไม่สามารถเชื่อมั่นในค่า p-value ได้เนื่องจาก collinearity ทำให้ความแม่นยำในการหา $\\hat{\\beta}$ ลดลง ซึ่งทำให้ standard error ของ $\\hat{\\beta}$ เพิ่มขึ้น ส่งผลให้ค่า t-statistic ลดลง ทำให้ p-value ลดลง ส่งผลให้อาจเกิดความผิดพลาดในการ reject hypothesis $H_0$ $\\textbf{The probability of correctly detecting a non-zero coefficient is reduced by collinearlity}$\n",
        "* วิธีการตรวจสอบ \\\n",
        "    1.ดู correlation matrix \\\n",
        "    2.ตรวจสอบค่า VIF (variance inflation factor)\n",
        "* วิธีการแก้ไข \\\n",
        "    1.drop ตัวแปรนึงทิ้ง อาจทำให้ regression fit ลดลง \\\n",
        "    2.combine ทั้ง 2 variables สร้างเป็น predictor ตัวใหม่"
      ]
    },
    {
      "cell_type": "code",
      "execution_count": 73,
      "id": "2353ced1",
      "metadata": {
        "id": "2353ced1",
        "outputId": "98dbb488-59f8-4f26-9e80-ba491bcb6d8d",
        "colab": {
          "base_uri": "https://localhost:8080/"
        }
      },
      "outputs": [
        {
          "output_type": "stream",
          "name": "stdout",
          "text": [
            "                            OLS Regression Results                            \n",
            "==============================================================================\n",
            "Dep. Variable:                      y   R-squared:                       0.990\n",
            "Model:                            OLS   Adj. R-squared:                  0.990\n",
            "Method:                 Least Squares   F-statistic:                     5004.\n",
            "Date:                Thu, 09 Mar 2023   Prob (F-statistic):           1.38e-98\n",
            "Time:                        18:20:07   Log-Likelihood:                -19.903\n",
            "No. Observations:                 100   AIC:                             45.81\n",
            "Df Residuals:                      97   BIC:                             53.62\n",
            "Df Model:                           2                                         \n",
            "Covariance Type:            nonrobust                                         \n",
            "==============================================================================\n",
            "                 coef    std err          t      P>|t|      [0.025      0.975]\n",
            "------------------------------------------------------------------------------\n",
            "const          2.4905      0.081     30.565      0.000       2.329       2.652\n",
            "x1             0.0871      1.642      0.053      0.958      -3.173       3.347\n",
            "x2             3.6159      0.549      6.587      0.000       2.526       4.705\n",
            "==============================================================================\n",
            "Omnibus:                       53.700   Durbin-Watson:                   1.976\n",
            "Prob(Omnibus):                  0.000   Jarque-Bera (JB):                7.000\n",
            "Skew:                          -0.014   Prob(JB):                       0.0302\n",
            "Kurtosis:                       1.704   Cond. No.                         118.\n",
            "==============================================================================\n",
            "\n",
            "Notes:\n",
            "[1] Standard Errors assume that the covariance matrix of the errors is correctly specified.\n"
          ]
        }
      ],
      "source": [
        "np.random.seed(10)\n",
        "x1 = np.random.rand(100,1)\n",
        "x2 = 3*x1+ 0.2*np.random.rand(100,1)\n",
        "y = 2 + 2*x1 + 3*x2 + np.random.rand(100,1)\n",
        "x = np.concatenate((x1,x2), axis = 1)\n",
        "x = sm.add_constant(x)\n",
        "model = sm.OLS(y, x)\n",
        "result = model.fit()\n",
        "print(result.summary())"
      ]
    }
  ],
  "metadata": {
    "kernelspec": {
      "display_name": "myenv",
      "language": "python",
      "name": "python3"
    },
    "language_info": {
      "codemirror_mode": {
        "name": "ipython",
        "version": 3
      },
      "file_extension": ".py",
      "mimetype": "text/x-python",
      "name": "python",
      "nbconvert_exporter": "python",
      "pygments_lexer": "ipython3",
      "version": "3.9.15"
    },
    "vscode": {
      "interpreter": {
        "hash": "50be3f3039719093d10a791a37336ca1bc695ce4cd0bb6ca40e03511714a67d5"
      }
    },
    "colab": {
      "provenance": []
    }
  },
  "nbformat": 4,
  "nbformat_minor": 5
}