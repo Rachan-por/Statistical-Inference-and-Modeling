{
  "nbformat": 4,
  "nbformat_minor": 0,
  "metadata": {
    "colab": {
      "provenance": []
    },
    "kernelspec": {
      "name": "python3",
      "display_name": "Python 3"
    },
    "language_info": {
      "name": "python"
    }
  },
  "cells": [
    {
      "cell_type": "markdown",
      "source": [
        "# Chapter 5: Resampling method\n",
        "\n",
        "เป็นวิธีการที่เกี่ยวกับการ fit model ซ้ำๆเพื่อให้ได้ข้อมูลบางอย่างที่เป็นประโยชน์เกี่ยวกับประสิทธิภาพของ model เนื่องจากการที่เกิดการ fit model ซ้ำๆทำให้วิธีการนี้มี computational cost ที่สูงเมื่อจำนวนของ sample เยอะๆ โดยจะมีวิธีการ resampling อยู่ 2 แบบ คือ cross-validation และ boostrap \n",
        "\n",
        "* กระบวนการการวัด model performance เรียกว่า model assessment\n",
        "* กระบวนการการเลือก complexity (flexibility) ของ model เรียกว่า model selection"
      ],
      "metadata": {
        "id": "j5p20cUlEA1y"
      }
    },
    {
      "cell_type": "code",
      "execution_count": 1,
      "metadata": {
        "id": "RUuX8T2QNnP-"
      },
      "outputs": [],
      "source": [
        "import pandas as pd\n",
        "import numpy as np\n",
        "import matplotlib.pyplot as plt\n",
        "from sklearn.model_selection import train_test_split\n",
        "from sklearn.preprocessing import PolynomialFeatures\n",
        "from sklearn.metrics import mean_squared_error\n",
        "import statsmodels.api as sm\n",
        "from sklearn.model_selection import LeaveOneOut\n",
        "from sklearn.model_selection import KFold"
      ]
    },
    {
      "cell_type": "code",
      "source": [
        "from google.colab import drive\n",
        "\n",
        "drive.mount('/content/gdrive/', force_remount=True)"
      ],
      "metadata": {
        "colab": {
          "base_uri": "https://localhost:8080/"
        },
        "id": "GIuU0ygVOB7u",
        "outputId": "ab2e1a93-317b-46ea-df07-02b13cf1634d"
      },
      "execution_count": 2,
      "outputs": [
        {
          "output_type": "stream",
          "name": "stdout",
          "text": [
            "Mounted at /content/gdrive/\n"
          ]
        }
      ]
    },
    {
      "cell_type": "code",
      "source": [
        "df = pd.read_csv('/content/gdrive/MyDrive/ISLR_data/Auto.csv')\n",
        "df.drop('name',axis=1,inplace=True)\n",
        "df = df.replace('?', np.nan)\n",
        "df =df.dropna()\n",
        "df['horsepower'] = df['horsepower'].astype(float)"
      ],
      "metadata": {
        "id": "xUdgICZiN7UW"
      },
      "execution_count": 3,
      "outputs": []
    },
    {
      "cell_type": "code",
      "source": [
        "df.head()"
      ],
      "metadata": {
        "colab": {
          "base_uri": "https://localhost:8080/",
          "height": 206
        },
        "id": "RUZBlnenfEAV",
        "outputId": "4e9ca5af-4f46-4e2d-fa10-64d36242e0f3"
      },
      "execution_count": 4,
      "outputs": [
        {
          "output_type": "execute_result",
          "data": {
            "text/plain": [
              "    mpg  cylinders  displacement  horsepower  weight  acceleration  year  \\\n",
              "0  18.0          8         307.0       130.0    3504          12.0    70   \n",
              "1  15.0          8         350.0       165.0    3693          11.5    70   \n",
              "2  18.0          8         318.0       150.0    3436          11.0    70   \n",
              "3  16.0          8         304.0       150.0    3433          12.0    70   \n",
              "4  17.0          8         302.0       140.0    3449          10.5    70   \n",
              "\n",
              "   origin  \n",
              "0       1  \n",
              "1       1  \n",
              "2       1  \n",
              "3       1  \n",
              "4       1  "
            ],
            "text/html": [
              "\n",
              "  <div id=\"df-5833a3e5-57cc-4dcb-919f-b359cd8e3429\">\n",
              "    <div class=\"colab-df-container\">\n",
              "      <div>\n",
              "<style scoped>\n",
              "    .dataframe tbody tr th:only-of-type {\n",
              "        vertical-align: middle;\n",
              "    }\n",
              "\n",
              "    .dataframe tbody tr th {\n",
              "        vertical-align: top;\n",
              "    }\n",
              "\n",
              "    .dataframe thead th {\n",
              "        text-align: right;\n",
              "    }\n",
              "</style>\n",
              "<table border=\"1\" class=\"dataframe\">\n",
              "  <thead>\n",
              "    <tr style=\"text-align: right;\">\n",
              "      <th></th>\n",
              "      <th>mpg</th>\n",
              "      <th>cylinders</th>\n",
              "      <th>displacement</th>\n",
              "      <th>horsepower</th>\n",
              "      <th>weight</th>\n",
              "      <th>acceleration</th>\n",
              "      <th>year</th>\n",
              "      <th>origin</th>\n",
              "    </tr>\n",
              "  </thead>\n",
              "  <tbody>\n",
              "    <tr>\n",
              "      <th>0</th>\n",
              "      <td>18.0</td>\n",
              "      <td>8</td>\n",
              "      <td>307.0</td>\n",
              "      <td>130.0</td>\n",
              "      <td>3504</td>\n",
              "      <td>12.0</td>\n",
              "      <td>70</td>\n",
              "      <td>1</td>\n",
              "    </tr>\n",
              "    <tr>\n",
              "      <th>1</th>\n",
              "      <td>15.0</td>\n",
              "      <td>8</td>\n",
              "      <td>350.0</td>\n",
              "      <td>165.0</td>\n",
              "      <td>3693</td>\n",
              "      <td>11.5</td>\n",
              "      <td>70</td>\n",
              "      <td>1</td>\n",
              "    </tr>\n",
              "    <tr>\n",
              "      <th>2</th>\n",
              "      <td>18.0</td>\n",
              "      <td>8</td>\n",
              "      <td>318.0</td>\n",
              "      <td>150.0</td>\n",
              "      <td>3436</td>\n",
              "      <td>11.0</td>\n",
              "      <td>70</td>\n",
              "      <td>1</td>\n",
              "    </tr>\n",
              "    <tr>\n",
              "      <th>3</th>\n",
              "      <td>16.0</td>\n",
              "      <td>8</td>\n",
              "      <td>304.0</td>\n",
              "      <td>150.0</td>\n",
              "      <td>3433</td>\n",
              "      <td>12.0</td>\n",
              "      <td>70</td>\n",
              "      <td>1</td>\n",
              "    </tr>\n",
              "    <tr>\n",
              "      <th>4</th>\n",
              "      <td>17.0</td>\n",
              "      <td>8</td>\n",
              "      <td>302.0</td>\n",
              "      <td>140.0</td>\n",
              "      <td>3449</td>\n",
              "      <td>10.5</td>\n",
              "      <td>70</td>\n",
              "      <td>1</td>\n",
              "    </tr>\n",
              "  </tbody>\n",
              "</table>\n",
              "</div>\n",
              "      <button class=\"colab-df-convert\" onclick=\"convertToInteractive('df-5833a3e5-57cc-4dcb-919f-b359cd8e3429')\"\n",
              "              title=\"Convert this dataframe to an interactive table.\"\n",
              "              style=\"display:none;\">\n",
              "        \n",
              "  <svg xmlns=\"http://www.w3.org/2000/svg\" height=\"24px\"viewBox=\"0 0 24 24\"\n",
              "       width=\"24px\">\n",
              "    <path d=\"M0 0h24v24H0V0z\" fill=\"none\"/>\n",
              "    <path d=\"M18.56 5.44l.94 2.06.94-2.06 2.06-.94-2.06-.94-.94-2.06-.94 2.06-2.06.94zm-11 1L8.5 8.5l.94-2.06 2.06-.94-2.06-.94L8.5 2.5l-.94 2.06-2.06.94zm10 10l.94 2.06.94-2.06 2.06-.94-2.06-.94-.94-2.06-.94 2.06-2.06.94z\"/><path d=\"M17.41 7.96l-1.37-1.37c-.4-.4-.92-.59-1.43-.59-.52 0-1.04.2-1.43.59L10.3 9.45l-7.72 7.72c-.78.78-.78 2.05 0 2.83L4 21.41c.39.39.9.59 1.41.59.51 0 1.02-.2 1.41-.59l7.78-7.78 2.81-2.81c.8-.78.8-2.07 0-2.86zM5.41 20L4 18.59l7.72-7.72 1.47 1.35L5.41 20z\"/>\n",
              "  </svg>\n",
              "      </button>\n",
              "      \n",
              "  <style>\n",
              "    .colab-df-container {\n",
              "      display:flex;\n",
              "      flex-wrap:wrap;\n",
              "      gap: 12px;\n",
              "    }\n",
              "\n",
              "    .colab-df-convert {\n",
              "      background-color: #E8F0FE;\n",
              "      border: none;\n",
              "      border-radius: 50%;\n",
              "      cursor: pointer;\n",
              "      display: none;\n",
              "      fill: #1967D2;\n",
              "      height: 32px;\n",
              "      padding: 0 0 0 0;\n",
              "      width: 32px;\n",
              "    }\n",
              "\n",
              "    .colab-df-convert:hover {\n",
              "      background-color: #E2EBFA;\n",
              "      box-shadow: 0px 1px 2px rgba(60, 64, 67, 0.3), 0px 1px 3px 1px rgba(60, 64, 67, 0.15);\n",
              "      fill: #174EA6;\n",
              "    }\n",
              "\n",
              "    [theme=dark] .colab-df-convert {\n",
              "      background-color: #3B4455;\n",
              "      fill: #D2E3FC;\n",
              "    }\n",
              "\n",
              "    [theme=dark] .colab-df-convert:hover {\n",
              "      background-color: #434B5C;\n",
              "      box-shadow: 0px 1px 3px 1px rgba(0, 0, 0, 0.15);\n",
              "      filter: drop-shadow(0px 1px 2px rgba(0, 0, 0, 0.3));\n",
              "      fill: #FFFFFF;\n",
              "    }\n",
              "  </style>\n",
              "\n",
              "      <script>\n",
              "        const buttonEl =\n",
              "          document.querySelector('#df-5833a3e5-57cc-4dcb-919f-b359cd8e3429 button.colab-df-convert');\n",
              "        buttonEl.style.display =\n",
              "          google.colab.kernel.accessAllowed ? 'block' : 'none';\n",
              "\n",
              "        async function convertToInteractive(key) {\n",
              "          const element = document.querySelector('#df-5833a3e5-57cc-4dcb-919f-b359cd8e3429');\n",
              "          const dataTable =\n",
              "            await google.colab.kernel.invokeFunction('convertToInteractive',\n",
              "                                                     [key], {});\n",
              "          if (!dataTable) return;\n",
              "\n",
              "          const docLinkHtml = 'Like what you see? Visit the ' +\n",
              "            '<a target=\"_blank\" href=https://colab.research.google.com/notebooks/data_table.ipynb>data table notebook</a>'\n",
              "            + ' to learn more about interactive tables.';\n",
              "          element.innerHTML = '';\n",
              "          dataTable['output_type'] = 'display_data';\n",
              "          await google.colab.output.renderOutput(dataTable, element);\n",
              "          const docLink = document.createElement('div');\n",
              "          docLink.innerHTML = docLinkHtml;\n",
              "          element.appendChild(docLink);\n",
              "        }\n",
              "      </script>\n",
              "    </div>\n",
              "  </div>\n",
              "  "
            ]
          },
          "metadata": {},
          "execution_count": 4
        }
      ]
    },
    {
      "cell_type": "code",
      "source": [
        "df.describe()"
      ],
      "metadata": {
        "colab": {
          "base_uri": "https://localhost:8080/",
          "height": 300
        },
        "id": "vuyhVYZtfPus",
        "outputId": "a4a7d18b-995c-4d0e-b431-c48458ebccb3"
      },
      "execution_count": 5,
      "outputs": [
        {
          "output_type": "execute_result",
          "data": {
            "text/plain": [
              "              mpg   cylinders  displacement  horsepower       weight  \\\n",
              "count  392.000000  392.000000    392.000000  392.000000   392.000000   \n",
              "mean    23.445918    5.471939    194.411990  104.469388  2977.584184   \n",
              "std      7.805007    1.705783    104.644004   38.491160   849.402560   \n",
              "min      9.000000    3.000000     68.000000   46.000000  1613.000000   \n",
              "25%     17.000000    4.000000    105.000000   75.000000  2225.250000   \n",
              "50%     22.750000    4.000000    151.000000   93.500000  2803.500000   \n",
              "75%     29.000000    8.000000    275.750000  126.000000  3614.750000   \n",
              "max     46.600000    8.000000    455.000000  230.000000  5140.000000   \n",
              "\n",
              "       acceleration        year      origin  \n",
              "count    392.000000  392.000000  392.000000  \n",
              "mean      15.541327   75.979592    1.576531  \n",
              "std        2.758864    3.683737    0.805518  \n",
              "min        8.000000   70.000000    1.000000  \n",
              "25%       13.775000   73.000000    1.000000  \n",
              "50%       15.500000   76.000000    1.000000  \n",
              "75%       17.025000   79.000000    2.000000  \n",
              "max       24.800000   82.000000    3.000000  "
            ],
            "text/html": [
              "\n",
              "  <div id=\"df-6e649bc5-59f2-4637-9b9a-ec556b23ad32\">\n",
              "    <div class=\"colab-df-container\">\n",
              "      <div>\n",
              "<style scoped>\n",
              "    .dataframe tbody tr th:only-of-type {\n",
              "        vertical-align: middle;\n",
              "    }\n",
              "\n",
              "    .dataframe tbody tr th {\n",
              "        vertical-align: top;\n",
              "    }\n",
              "\n",
              "    .dataframe thead th {\n",
              "        text-align: right;\n",
              "    }\n",
              "</style>\n",
              "<table border=\"1\" class=\"dataframe\">\n",
              "  <thead>\n",
              "    <tr style=\"text-align: right;\">\n",
              "      <th></th>\n",
              "      <th>mpg</th>\n",
              "      <th>cylinders</th>\n",
              "      <th>displacement</th>\n",
              "      <th>horsepower</th>\n",
              "      <th>weight</th>\n",
              "      <th>acceleration</th>\n",
              "      <th>year</th>\n",
              "      <th>origin</th>\n",
              "    </tr>\n",
              "  </thead>\n",
              "  <tbody>\n",
              "    <tr>\n",
              "      <th>count</th>\n",
              "      <td>392.000000</td>\n",
              "      <td>392.000000</td>\n",
              "      <td>392.000000</td>\n",
              "      <td>392.000000</td>\n",
              "      <td>392.000000</td>\n",
              "      <td>392.000000</td>\n",
              "      <td>392.000000</td>\n",
              "      <td>392.000000</td>\n",
              "    </tr>\n",
              "    <tr>\n",
              "      <th>mean</th>\n",
              "      <td>23.445918</td>\n",
              "      <td>5.471939</td>\n",
              "      <td>194.411990</td>\n",
              "      <td>104.469388</td>\n",
              "      <td>2977.584184</td>\n",
              "      <td>15.541327</td>\n",
              "      <td>75.979592</td>\n",
              "      <td>1.576531</td>\n",
              "    </tr>\n",
              "    <tr>\n",
              "      <th>std</th>\n",
              "      <td>7.805007</td>\n",
              "      <td>1.705783</td>\n",
              "      <td>104.644004</td>\n",
              "      <td>38.491160</td>\n",
              "      <td>849.402560</td>\n",
              "      <td>2.758864</td>\n",
              "      <td>3.683737</td>\n",
              "      <td>0.805518</td>\n",
              "    </tr>\n",
              "    <tr>\n",
              "      <th>min</th>\n",
              "      <td>9.000000</td>\n",
              "      <td>3.000000</td>\n",
              "      <td>68.000000</td>\n",
              "      <td>46.000000</td>\n",
              "      <td>1613.000000</td>\n",
              "      <td>8.000000</td>\n",
              "      <td>70.000000</td>\n",
              "      <td>1.000000</td>\n",
              "    </tr>\n",
              "    <tr>\n",
              "      <th>25%</th>\n",
              "      <td>17.000000</td>\n",
              "      <td>4.000000</td>\n",
              "      <td>105.000000</td>\n",
              "      <td>75.000000</td>\n",
              "      <td>2225.250000</td>\n",
              "      <td>13.775000</td>\n",
              "      <td>73.000000</td>\n",
              "      <td>1.000000</td>\n",
              "    </tr>\n",
              "    <tr>\n",
              "      <th>50%</th>\n",
              "      <td>22.750000</td>\n",
              "      <td>4.000000</td>\n",
              "      <td>151.000000</td>\n",
              "      <td>93.500000</td>\n",
              "      <td>2803.500000</td>\n",
              "      <td>15.500000</td>\n",
              "      <td>76.000000</td>\n",
              "      <td>1.000000</td>\n",
              "    </tr>\n",
              "    <tr>\n",
              "      <th>75%</th>\n",
              "      <td>29.000000</td>\n",
              "      <td>8.000000</td>\n",
              "      <td>275.750000</td>\n",
              "      <td>126.000000</td>\n",
              "      <td>3614.750000</td>\n",
              "      <td>17.025000</td>\n",
              "      <td>79.000000</td>\n",
              "      <td>2.000000</td>\n",
              "    </tr>\n",
              "    <tr>\n",
              "      <th>max</th>\n",
              "      <td>46.600000</td>\n",
              "      <td>8.000000</td>\n",
              "      <td>455.000000</td>\n",
              "      <td>230.000000</td>\n",
              "      <td>5140.000000</td>\n",
              "      <td>24.800000</td>\n",
              "      <td>82.000000</td>\n",
              "      <td>3.000000</td>\n",
              "    </tr>\n",
              "  </tbody>\n",
              "</table>\n",
              "</div>\n",
              "      <button class=\"colab-df-convert\" onclick=\"convertToInteractive('df-6e649bc5-59f2-4637-9b9a-ec556b23ad32')\"\n",
              "              title=\"Convert this dataframe to an interactive table.\"\n",
              "              style=\"display:none;\">\n",
              "        \n",
              "  <svg xmlns=\"http://www.w3.org/2000/svg\" height=\"24px\"viewBox=\"0 0 24 24\"\n",
              "       width=\"24px\">\n",
              "    <path d=\"M0 0h24v24H0V0z\" fill=\"none\"/>\n",
              "    <path d=\"M18.56 5.44l.94 2.06.94-2.06 2.06-.94-2.06-.94-.94-2.06-.94 2.06-2.06.94zm-11 1L8.5 8.5l.94-2.06 2.06-.94-2.06-.94L8.5 2.5l-.94 2.06-2.06.94zm10 10l.94 2.06.94-2.06 2.06-.94-2.06-.94-.94-2.06-.94 2.06-2.06.94z\"/><path d=\"M17.41 7.96l-1.37-1.37c-.4-.4-.92-.59-1.43-.59-.52 0-1.04.2-1.43.59L10.3 9.45l-7.72 7.72c-.78.78-.78 2.05 0 2.83L4 21.41c.39.39.9.59 1.41.59.51 0 1.02-.2 1.41-.59l7.78-7.78 2.81-2.81c.8-.78.8-2.07 0-2.86zM5.41 20L4 18.59l7.72-7.72 1.47 1.35L5.41 20z\"/>\n",
              "  </svg>\n",
              "      </button>\n",
              "      \n",
              "  <style>\n",
              "    .colab-df-container {\n",
              "      display:flex;\n",
              "      flex-wrap:wrap;\n",
              "      gap: 12px;\n",
              "    }\n",
              "\n",
              "    .colab-df-convert {\n",
              "      background-color: #E8F0FE;\n",
              "      border: none;\n",
              "      border-radius: 50%;\n",
              "      cursor: pointer;\n",
              "      display: none;\n",
              "      fill: #1967D2;\n",
              "      height: 32px;\n",
              "      padding: 0 0 0 0;\n",
              "      width: 32px;\n",
              "    }\n",
              "\n",
              "    .colab-df-convert:hover {\n",
              "      background-color: #E2EBFA;\n",
              "      box-shadow: 0px 1px 2px rgba(60, 64, 67, 0.3), 0px 1px 3px 1px rgba(60, 64, 67, 0.15);\n",
              "      fill: #174EA6;\n",
              "    }\n",
              "\n",
              "    [theme=dark] .colab-df-convert {\n",
              "      background-color: #3B4455;\n",
              "      fill: #D2E3FC;\n",
              "    }\n",
              "\n",
              "    [theme=dark] .colab-df-convert:hover {\n",
              "      background-color: #434B5C;\n",
              "      box-shadow: 0px 1px 3px 1px rgba(0, 0, 0, 0.15);\n",
              "      filter: drop-shadow(0px 1px 2px rgba(0, 0, 0, 0.3));\n",
              "      fill: #FFFFFF;\n",
              "    }\n",
              "  </style>\n",
              "\n",
              "      <script>\n",
              "        const buttonEl =\n",
              "          document.querySelector('#df-6e649bc5-59f2-4637-9b9a-ec556b23ad32 button.colab-df-convert');\n",
              "        buttonEl.style.display =\n",
              "          google.colab.kernel.accessAllowed ? 'block' : 'none';\n",
              "\n",
              "        async function convertToInteractive(key) {\n",
              "          const element = document.querySelector('#df-6e649bc5-59f2-4637-9b9a-ec556b23ad32');\n",
              "          const dataTable =\n",
              "            await google.colab.kernel.invokeFunction('convertToInteractive',\n",
              "                                                     [key], {});\n",
              "          if (!dataTable) return;\n",
              "\n",
              "          const docLinkHtml = 'Like what you see? Visit the ' +\n",
              "            '<a target=\"_blank\" href=https://colab.research.google.com/notebooks/data_table.ipynb>data table notebook</a>'\n",
              "            + ' to learn more about interactive tables.';\n",
              "          element.innerHTML = '';\n",
              "          dataTable['output_type'] = 'display_data';\n",
              "          await google.colab.output.renderOutput(dataTable, element);\n",
              "          const docLink = document.createElement('div');\n",
              "          docLink.innerHTML = docLinkHtml;\n",
              "          element.appendChild(docLink);\n",
              "        }\n",
              "      </script>\n",
              "    </div>\n",
              "  </div>\n",
              "  "
            ]
          },
          "metadata": {},
          "execution_count": 5
        }
      ]
    },
    {
      "cell_type": "markdown",
      "source": [
        "#Cross-Validation\n",
        "* Validation set / hold out\n",
        "* Leave-one-out cross validation (LOOCV)\n",
        "* k-fold cross validation"
      ],
      "metadata": {
        "id": "c9kRdXzmGmDG"
      }
    },
    {
      "cell_type": "markdown",
      "source": [
        "## Validation set\n",
        "\n"
      ],
      "metadata": {
        "id": "a1w-neX5HHck"
      }
    },
    {
      "cell_type": "markdown",
      "source": [
        "* วิธีการคือ แบ่ง data เป็น 2 ชุด อย่าง randomly คือ training set และ validation set หลังจากนั้นนำ model ไป fit กับ training set และนำไป evaluate บน validation set เพื่อให้ได้ MSE ออกมา\n",
        "\n",
        "* จากตัวอย่างด้านล่างทำการ randomly data ต่างกันทั้งหมด 10 แบบ แล้วนำไป fit model และหา MSE บน validation set จะพบว่าค่า MSE ที่ได้มีค่าต่างกัน ซึ่งจากทั้ง 10 กราฟชี้ให้เห็นว่า degree 2 ให้ค่า test MSE ต่ำที่สุดและไม่มีประโยชน์ที่จะเพิ่มค่า degree ของ polynomial\n",
        "\n",
        "* จะพบว่า hold out เป็นวิธีที่ง่ายและ computational cost ไม่เยอะแต่จะมีข้อเสีย 2 อย่างคือ  \n",
        "  1.   validation error มีค่าแตกต่างกันในแต่ละครั้งที่ fit model เนื่องจาก data ที่ใช้ในการ train ในแต่ละรอบไม่เหมือนกัน\n",
        "  2.   validation error มักจะ overestimate (มีค่าสูงเกินจริง) กับค่า test error สำหรับการ fit ข้อมูลบน dataset ทั้งหมด\n",
        "\n"
      ],
      "metadata": {
        "id": "D7cg5O8tICzv"
      }
    },
    {
      "cell_type": "code",
      "source": [
        "fig, axs = plt.subplots(1, 2, figsize=(10, 5))\n",
        "MSEs =[]\n",
        "X_train, X_test, y_train, y_test = train_test_split(df[['horsepower']], df[['mpg']], test_size=0.45, random_state=0)\n",
        "for i in range(1,9):\n",
        "  polynomial_features= PolynomialFeatures(degree=i)\n",
        "  xp = polynomial_features.fit_transform(X_train)\n",
        "  model = sm.OLS(y_train, xp)\n",
        "  results = model.fit()\n",
        "  xp_test = polynomial_features.fit_transform(X_test)\n",
        "  y_pred = results.predict(xp_test)\n",
        "  MSEs.append(mean_squared_error(y_test, y_pred))\n",
        "n = np.arange(1,i+1)\n",
        "plt.subplot(1,2,1)\n",
        "plt.plot(n,MSEs)\n",
        "plt.xlabel('Degree of polynomial')\n",
        "plt.ylabel('Mean Squared Error')\n",
        "plt.subplot(1,2,2)\n",
        "for j in range(1,11):\n",
        "  MSEs =[]\n",
        "  X_train, X_test, y_train, y_test = train_test_split(df[['horsepower']], df['mpg'], test_size=0.45, random_state=j)\n",
        "  for i in range(1,9):\n",
        "    polynomial_features= PolynomialFeatures(degree=i)\n",
        "    xp = polynomial_features.fit_transform(X_train)\n",
        "    model = sm.OLS(y_train, xp)\n",
        "    results = model.fit()\n",
        "    xp_test = polynomial_features.fit_transform(X_test)\n",
        "    y_pred = results.predict(xp_test)\n",
        "    MSEs.append(mean_squared_error(y_test, y_pred))\n",
        "  n = np.arange(1,i+1)\n",
        "  plt.plot(n,MSEs)\n",
        "plt.xlabel('Degree of polynomial')\n",
        "plt.ylabel('Mean Squared Error')"
      ],
      "metadata": {
        "colab": {
          "base_uri": "https://localhost:8080/",
          "height": 352
        },
        "id": "m9dIpyWMf98h",
        "outputId": "6f7ed046-4cd4-4be3-9e00-12a42b157604"
      },
      "execution_count": 7,
      "outputs": [
        {
          "output_type": "execute_result",
          "data": {
            "text/plain": [
              "Text(0, 0.5, 'Mean Squared Error')"
            ]
          },
          "metadata": {},
          "execution_count": 7
        },
        {
          "output_type": "display_data",
          "data": {
            "text/plain": [
              "<Figure size 720x360 with 2 Axes>"
            ],
            "image/png": "[encoded data removed]"
          },
          "metadata": {
            "needs_background": "light"
          }
        }
      ]
    },
    {
      "cell_type": "markdown",
      "source": [
        "## Leave-one-out cross validation (LOOCV)\n",
        "\n",
        "คือการแบ่งข้อมูล validation set จำนวน 1 sample และ training set จำนวน N-1 sample โดย N คือจำนวนข้อมูลทั้งหมด และหาค่า MSE ของ validation set แค่ 1 ตัว ทำซ้ำทั้งหมด N รอบ ดังนั้นจะได้ค่า Mean squared error ทั้งหมด N ตัว หลังจากนั้นจะหา cross validation error โดย \n",
        "$$ CV_{(n)} = \\frac{1}{n}\\sum_{i=1}^{n}MSE_i$$\n",
        "\n",
        "ข้อดีที่เห็นได้ชัดของวิธีการนี้คือมี bias ลดลงเมื่อเทียบกับ hold out เนื่องจากจำนวนข้อมูลที่มาใช้ train มีจำนวนทั้งหมด N-1 ตัว ซึ่งมากกว่า hold out มาก ดังนั้นวิธีการนี้มักจะไม่ overestimate test error และข้อดีอีกอย่างหนึ่งคือการทำซ้ำของวิธีการนี้ก็ยังจะให้ค่า validation error เหมือนเดิม เนื่องจากแบ่งชุดข้อมูลเป็น N-1, 1 ทั้งหมดสองชุดและทำทั้งหมด N รอบ การ random ไม่ได้ทำให้เกิดการเปลี่ยนแปลงอะไร แต่ข้อเสียของวิธีนี้ก็คือ computational cost ที่สูงกว่า hold out มาก"
      ],
      "metadata": {
        "id": "OnxUy-V8Kky7"
      }
    },
    {
      "cell_type": "code",
      "source": [
        "X = df[['horsepower']].to_numpy()\n",
        "y = df[['mpg']].to_numpy()\n",
        "loo = LeaveOneOut()\n",
        "MSEs = []\n",
        "for i in range(1,9):\n",
        "  mse = 0\n",
        "  for train_index, test_index in loo.split(X):\n",
        "    X_train = X[train_index]\n",
        "    y_train = y[train_index]\n",
        "    X_test = X[test_index]\n",
        "    y_test = y[test_index]  \n",
        "    polynomial_features= PolynomialFeatures(degree=i)\n",
        "    xp = polynomial_features.fit_transform(X_train)\n",
        "    model = sm.OLS(y_train, xp)\n",
        "    results = model.fit()\n",
        "    xp_test = polynomial_features.fit_transform(X_test)\n",
        "    y_pred = results.predict(xp_test)\n",
        "    mse += mean_squared_error(y_test, y_pred)\n",
        "  MSEs.append(mse/len(y))\n",
        "n = np.arange(1,i+1)\n",
        "plt.plot(n, MSEs)\n",
        "plt.xlabel('Degree of polynomial')\n",
        "plt.ylabel('Mean Squared Error')\n",
        "plt.title('LOOCV')"
      ],
      "metadata": {
        "colab": {
          "base_uri": "https://localhost:8080/",
          "height": 313
        },
        "id": "6tdtVqvuNEyg",
        "outputId": "55ada87c-3085-42b9-99b0-aa072ef8f791"
      },
      "execution_count": 8,
      "outputs": [
        {
          "output_type": "execute_result",
          "data": {
            "text/plain": [
              "Text(0.5, 1.0, 'LOOCV')"
            ]
          },
          "metadata": {},
          "execution_count": 8
        },
        {
          "output_type": "display_data",
          "data": {
            "text/plain": [
              "<Figure size 432x288 with 1 Axes>"
            ],
            "image/png": "[encoded data removed]"
          },
          "metadata": {
            "needs_background": "light"
          }
        }
      ]
    },
    {
      "cell_type": "markdown",
      "source": [
        "## k-fold cross validation\n",
        "\n",
        "วิธีการนี้จะแบ่ง dataset เป็น k ชุดอย่าง randomly ก่อนหลังจากนั้น จะแบ่ง training data ออกเป็น k-1 ชุดและ validation data 1 ชุด หลังจากนั้นจะทำซ้ำทั้งหมด k รอบ ดังนั้นเราจะได้ Mean Squared Error ทั้งหมด k ค่า หลังจากนั้นจะหาค่า cross validation error โดย\n",
        "$$ CV_{(k)} = \\frac{1}{k}\\sum_{i=1}^kMSE_i $$\n",
        "\n",
        "จึงเห็นได้อย่างง่ายว่า LOOCV เป็น special case ของ k-fold ในกรณีที่ k = N และข้อได้เปรียที่เหนือกว่า LOOCV คือ computational cost ที่มีค่าน้อยกว่ามากซึ่ง k-fold จะทำการ fit model ทั้งหมด k ครั้ง นอกจากนี้ยังอาจมีข้อดีอีกแง่นึงที่ดีกว่า LOOCV ซึ่งควรพิจารณาผ่านมุมมอง bias-variance trade-off"
      ],
      "metadata": {
        "id": "EaxY5nLhQomG"
      }
    },
    {
      "cell_type": "code",
      "source": [
        "X = df[['horsepower']].to_numpy()\n",
        "y = df[['mpg']].to_numpy()\n",
        "k = 10\n",
        "for j in range(1,11):\n",
        "  kf = KFold(n_splits=k,shuffle=True,random_state=j)\n",
        "  MSEs = []\n",
        "  for i in range(1,9):\n",
        "    mse = 0\n",
        "    for train_index, test_index in kf.split(X):\n",
        "      X_train = X[train_index]\n",
        "      y_train = y[train_index]\n",
        "      X_test = X[test_index]\n",
        "      y_test = y[test_index]  \n",
        "      polynomial_features= PolynomialFeatures(degree=i)\n",
        "      xp = polynomial_features.fit_transform(X_train)\n",
        "      model = sm.OLS(y_train, xp)\n",
        "      results = model.fit()\n",
        "      xp_test = polynomial_features.fit_transform(X_test)\n",
        "      y_pred = results.predict(xp_test)\n",
        "      mse += mean_squared_error(y_test, y_pred)\n",
        "    MSEs.append(mse/k)\n",
        "  n = np.arange(1,i+1)\n",
        "  plt.plot(n, MSEs)\n",
        "plt.xlabel('Degree of polynomial')\n",
        "plt.ylabel('Mean Squared Error')\n",
        "plt.title('k-fold (k=10)')"
      ],
      "metadata": {
        "colab": {
          "base_uri": "https://localhost:8080/",
          "height": 313
        },
        "id": "udfJO1xZlM4W",
        "outputId": "308f72c7-ec93-40ed-b256-177243d7a08b"
      },
      "execution_count": 9,
      "outputs": [
        {
          "output_type": "execute_result",
          "data": {
            "text/plain": [
              "Text(0.5, 1.0, 'k-fold (k=10)')"
            ]
          },
          "metadata": {},
          "execution_count": 9
        },
        {
          "output_type": "display_data",
          "data": {
            "text/plain": [
              "<Figure size 432x288 with 1 Axes>"
            ],
            "image/png": "[encoded data removed]"
          },
          "metadata": {
            "needs_background": "light"
          }
        }
      ]
    },
    {
      "cell_type": "markdown",
      "source": [
        "## Bias-Variance trade-off\n",
        "\n",
        "จากวิธี k-fold จะมีข้อดีคือใช้การคำนวณที่น้อยกว่า LOOCV แต่ข้อดีอีกข้อคือ k-fold จะให้ค่าประมาณของ test error rate ที่แม่นยำกว่า LOOCV ซึ่งเป็นผลจาก bias-variance trade-off\n",
        "\n",
        "ทั้งสามวิธีที่กล่าวมาจะพบว่า hold out จะใช้จำนวน training data ที่น้อยที่สุดจึงให้ bias ของ test error rate ที่สูงที่สุด ดังนั้นในมุมมองของ bias วิธี LOOCV จะให้ค่า bias น้อยที่สุดเนื่องจากใช้จำนวน training data สูงที่สุด อย่างไรก็ตาม bias ไม่ใช่ค่าเดียวที่ควรพิจารณา ควรพิจารณาถึงค่า varaince ด้วย ซึ่งมีหลักการอยู่ว่า เราไม่สามารถทำให้ทั้ง bias และ variance น้อยลงพร้อมกันได้ เมื่อเราทำให้ตัวใดตัวหนึ่งน้อยลงอีกตัวจะมีค่ามากขึ้น ดังนั้น bias ของ LOOCV น้อยที่สุด จะมีค่า variance สูงที่สุด โดยเมื่อพิจารณาจากการหาค่า test error rate ซึ่งก็คือการหาค่าเฉลี่ยของ MSE ที่คิดได้ในแต่ละรอบ โดย MSE นี้เองถูกคำนวณมาจากการ fit model ของ data ซึ่ง data ที่ใช้ fit model ในแต่ละครั้งจะมีความซ้ำกันมากสำหรับในกรณี LOOCV แสดงว่าค่า MSE จะมี correlation กันสูง ดังนั้น mean ของค่าที่มี correlation กันสูงก็จะทำให้ test error rate มีค่า variance สูง ในขณะที่วิธี k-fold จะได้ variancec ที่น้อยกว่าเนื่องจากใช้จำนวน data ที่ซ้ำกันน้อยกว่า \n",
        "\n",
        "ดังนั้น จาก bias-variance trade-off จะส่งผลเมื่อค่า k ใน k-fold เมื่อค่า k มาก bias จะต่ำแต่ variance จะสูง\n",
        "\n",
        "varaince ในที่นี้คือ การเปลี่ยน dataset ในการ train ทำให้ model ให้ผลลัพธ์เปลี่ยนไปมาก ซึ่ง model ที่ดีไม่ว่า dataset (ชนิดเดียวกัน) จะเปลี่ยนไปอย่างไรควรให้ผลลัพธ์เท่าเดิม"
      ],
      "metadata": {
        "id": "isEcA-mOTlXI"
      }
    },
    {
      "cell_type": "code",
      "source": [],
      "metadata": {
        "id": "vGW9Lc78TY-s"
      },
      "execution_count": null,
      "outputs": []
    }
  ]
}