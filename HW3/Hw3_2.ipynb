{
  "nbformat": 4,
  "nbformat_minor": 0,
  "metadata": {
    "colab": {
      "provenance": []
    },
    "kernelspec": {
      "name": "python3",
      "display_name": "Python 3"
    },
    "language_info": {
      "name": "python"
    }
  },
  "cells": [
    {
      "cell_type": "markdown",
      "source": [
        "#Hw 3.2"
      ],
      "metadata": {
        "id": "WjlGy06YvyLY"
      }
    },
    {
      "cell_type": "code",
      "source": [
        "import pandas as pd\n",
        "import numpy as np\n",
        "import matplotlib.pyplot as plt\n",
        "from sklearn.linear_model import Ridge\n",
        "from sklearn.linear_model import Lasso"
      ],
      "metadata": {
        "id": "zOd5nJbmxAPU"
      },
      "execution_count": 39,
      "outputs": []
    },
    {
      "cell_type": "code",
      "execution_count": 1,
      "metadata": {
        "colab": {
          "base_uri": "https://localhost:8080/"
        },
        "id": "skFgROe9vDLD",
        "outputId": "87d72800-7a89-4f72-f54c-ee44d3467d26"
      },
      "outputs": [
        {
          "output_type": "stream",
          "name": "stdout",
          "text": [
            "Mounted at /content/gdrive/\n"
          ]
        }
      ],
      "source": [
        "from google.colab import drive\n",
        "drive.mount('/content/gdrive/', force_remount=True)"
      ]
    },
    {
      "cell_type": "code",
      "source": [
        "df = pd.read_csv('/content/gdrive/MyDrive/prostate.csv')"
      ],
      "metadata": {
        "id": "PIeNY3ySvxhx"
      },
      "execution_count": 4,
      "outputs": []
    },
    {
      "cell_type": "code",
      "source": [
        "df.head()"
      ],
      "metadata": {
        "colab": {
          "base_uri": "https://localhost:8080/",
          "height": 206
        },
        "id": "1PkjfJ9ZyPBc",
        "outputId": "cd2d6767-02e6-4025-a76f-217be27980a7"
      },
      "execution_count": 6,
      "outputs": [
        {
          "output_type": "execute_result",
          "data": {
            "text/plain": [
              "   Unnamed: 0    lcavol   lweight  age      lbph  svi       lcp  gleason  \\\n",
              "0           1 -0.579818  2.769459   50 -1.386294    0 -1.386294        6   \n",
              "1           2 -0.994252  3.319626   58 -1.386294    0 -1.386294        6   \n",
              "2           3 -0.510826  2.691243   74 -1.386294    0 -1.386294        7   \n",
              "3           4 -1.203973  3.282789   58 -1.386294    0 -1.386294        6   \n",
              "4           5  0.751416  3.432373   62 -1.386294    0 -1.386294        6   \n",
              "\n",
              "   pgg45      lpsa train  \n",
              "0      0 -0.430783     T  \n",
              "1      0 -0.162519     T  \n",
              "2     20 -0.162519     T  \n",
              "3      0 -0.162519     T  \n",
              "4      0  0.371564     T  "
            ],
            "text/html": [
              "\n",
              "  <div id=\"df-a9b81e12-dc04-494c-ac81-d94a3baf2d15\">\n",
              "    <div class=\"colab-df-container\">\n",
              "      <div>\n",
              "<style scoped>\n",
              "    .dataframe tbody tr th:only-of-type {\n",
              "        vertical-align: middle;\n",
              "    }\n",
              "\n",
              "    .dataframe tbody tr th {\n",
              "        vertical-align: top;\n",
              "    }\n",
              "\n",
              "    .dataframe thead th {\n",
              "        text-align: right;\n",
              "    }\n",
              "</style>\n",
              "<table border=\"1\" class=\"dataframe\">\n",
              "  <thead>\n",
              "    <tr style=\"text-align: right;\">\n",
              "      <th></th>\n",
              "      <th>Unnamed: 0</th>\n",
              "      <th>lcavol</th>\n",
              "      <th>lweight</th>\n",
              "      <th>age</th>\n",
              "      <th>lbph</th>\n",
              "      <th>svi</th>\n",
              "      <th>lcp</th>\n",
              "      <th>gleason</th>\n",
              "      <th>pgg45</th>\n",
              "      <th>lpsa</th>\n",
              "      <th>train</th>\n",
              "    </tr>\n",
              "  </thead>\n",
              "  <tbody>\n",
              "    <tr>\n",
              "      <th>0</th>\n",
              "      <td>1</td>\n",
              "      <td>-0.579818</td>\n",
              "      <td>2.769459</td>\n",
              "      <td>50</td>\n",
              "      <td>-1.386294</td>\n",
              "      <td>0</td>\n",
              "      <td>-1.386294</td>\n",
              "      <td>6</td>\n",
              "      <td>0</td>\n",
              "      <td>-0.430783</td>\n",
              "      <td>T</td>\n",
              "    </tr>\n",
              "    <tr>\n",
              "      <th>1</th>\n",
              "      <td>2</td>\n",
              "      <td>-0.994252</td>\n",
              "      <td>3.319626</td>\n",
              "      <td>58</td>\n",
              "      <td>-1.386294</td>\n",
              "      <td>0</td>\n",
              "      <td>-1.386294</td>\n",
              "      <td>6</td>\n",
              "      <td>0</td>\n",
              "      <td>-0.162519</td>\n",
              "      <td>T</td>\n",
              "    </tr>\n",
              "    <tr>\n",
              "      <th>2</th>\n",
              "      <td>3</td>\n",
              "      <td>-0.510826</td>\n",
              "      <td>2.691243</td>\n",
              "      <td>74</td>\n",
              "      <td>-1.386294</td>\n",
              "      <td>0</td>\n",
              "      <td>-1.386294</td>\n",
              "      <td>7</td>\n",
              "      <td>20</td>\n",
              "      <td>-0.162519</td>\n",
              "      <td>T</td>\n",
              "    </tr>\n",
              "    <tr>\n",
              "      <th>3</th>\n",
              "      <td>4</td>\n",
              "      <td>-1.203973</td>\n",
              "      <td>3.282789</td>\n",
              "      <td>58</td>\n",
              "      <td>-1.386294</td>\n",
              "      <td>0</td>\n",
              "      <td>-1.386294</td>\n",
              "      <td>6</td>\n",
              "      <td>0</td>\n",
              "      <td>-0.162519</td>\n",
              "      <td>T</td>\n",
              "    </tr>\n",
              "    <tr>\n",
              "      <th>4</th>\n",
              "      <td>5</td>\n",
              "      <td>0.751416</td>\n",
              "      <td>3.432373</td>\n",
              "      <td>62</td>\n",
              "      <td>-1.386294</td>\n",
              "      <td>0</td>\n",
              "      <td>-1.386294</td>\n",
              "      <td>6</td>\n",
              "      <td>0</td>\n",
              "      <td>0.371564</td>\n",
              "      <td>T</td>\n",
              "    </tr>\n",
              "  </tbody>\n",
              "</table>\n",
              "</div>\n",
              "      <button class=\"colab-df-convert\" onclick=\"convertToInteractive('df-a9b81e12-dc04-494c-ac81-d94a3baf2d15')\"\n",
              "              title=\"Convert this dataframe to an interactive table.\"\n",
              "              style=\"display:none;\">\n",
              "        \n",
              "  <svg xmlns=\"http://www.w3.org/2000/svg\" height=\"24px\"viewBox=\"0 0 24 24\"\n",
              "       width=\"24px\">\n",
              "    <path d=\"M0 0h24v24H0V0z\" fill=\"none\"/>\n",
              "    <path d=\"M18.56 5.44l.94 2.06.94-2.06 2.06-.94-2.06-.94-.94-2.06-.94 2.06-2.06.94zm-11 1L8.5 8.5l.94-2.06 2.06-.94-2.06-.94L8.5 2.5l-.94 2.06-2.06.94zm10 10l.94 2.06.94-2.06 2.06-.94-2.06-.94-.94-2.06-.94 2.06-2.06.94z\"/><path d=\"M17.41 7.96l-1.37-1.37c-.4-.4-.92-.59-1.43-.59-.52 0-1.04.2-1.43.59L10.3 9.45l-7.72 7.72c-.78.78-.78 2.05 0 2.83L4 21.41c.39.39.9.59 1.41.59.51 0 1.02-.2 1.41-.59l7.78-7.78 2.81-2.81c.8-.78.8-2.07 0-2.86zM5.41 20L4 18.59l7.72-7.72 1.47 1.35L5.41 20z\"/>\n",
              "  </svg>\n",
              "      </button>\n",
              "      \n",
              "  <style>\n",
              "    .colab-df-container {\n",
              "      display:flex;\n",
              "      flex-wrap:wrap;\n",
              "      gap: 12px;\n",
              "    }\n",
              "\n",
              "    .colab-df-convert {\n",
              "      background-color: #E8F0FE;\n",
              "      border: none;\n",
              "      border-radius: 50%;\n",
              "      cursor: pointer;\n",
              "      display: none;\n",
              "      fill: #1967D2;\n",
              "      height: 32px;\n",
              "      padding: 0 0 0 0;\n",
              "      width: 32px;\n",
              "    }\n",
              "\n",
              "    .colab-df-convert:hover {\n",
              "      background-color: #E2EBFA;\n",
              "      box-shadow: 0px 1px 2px rgba(60, 64, 67, 0.3), 0px 1px 3px 1px rgba(60, 64, 67, 0.15);\n",
              "      fill: #174EA6;\n",
              "    }\n",
              "\n",
              "    [theme=dark] .colab-df-convert {\n",
              "      background-color: #3B4455;\n",
              "      fill: #D2E3FC;\n",
              "    }\n",
              "\n",
              "    [theme=dark] .colab-df-convert:hover {\n",
              "      background-color: #434B5C;\n",
              "      box-shadow: 0px 1px 3px 1px rgba(0, 0, 0, 0.15);\n",
              "      filter: drop-shadow(0px 1px 2px rgba(0, 0, 0, 0.3));\n",
              "      fill: #FFFFFF;\n",
              "    }\n",
              "  </style>\n",
              "\n",
              "      <script>\n",
              "        const buttonEl =\n",
              "          document.querySelector('#df-a9b81e12-dc04-494c-ac81-d94a3baf2d15 button.colab-df-convert');\n",
              "        buttonEl.style.display =\n",
              "          google.colab.kernel.accessAllowed ? 'block' : 'none';\n",
              "\n",
              "        async function convertToInteractive(key) {\n",
              "          const element = document.querySelector('#df-a9b81e12-dc04-494c-ac81-d94a3baf2d15');\n",
              "          const dataTable =\n",
              "            await google.colab.kernel.invokeFunction('convertToInteractive',\n",
              "                                                     [key], {});\n",
              "          if (!dataTable) return;\n",
              "\n",
              "          const docLinkHtml = 'Like what you see? Visit the ' +\n",
              "            '<a target=\"_blank\" href=https://colab.research.google.com/notebooks/data_table.ipynb>data table notebook</a>'\n",
              "            + ' to learn more about interactive tables.';\n",
              "          element.innerHTML = '';\n",
              "          dataTable['output_type'] = 'display_data';\n",
              "          await google.colab.output.renderOutput(dataTable, element);\n",
              "          const docLink = document.createElement('div');\n",
              "          docLink.innerHTML = docLinkHtml;\n",
              "          element.appendChild(docLink);\n",
              "        }\n",
              "      </script>\n",
              "    </div>\n",
              "  </div>\n",
              "  "
            ]
          },
          "metadata": {},
          "execution_count": 6
        }
      ]
    },
    {
      "cell_type": "code",
      "source": [
        "y = df['lpsa']\n",
        "X = df[df.columns[1:-2]]"
      ],
      "metadata": {
        "id": "qSmxEi27wxvD"
      },
      "execution_count": 8,
      "outputs": []
    },
    {
      "cell_type": "code",
      "source": [
        "lamb = np.arange(0,8,0.05)\n",
        "alpha = np.arange(0,3.2,0.02)\n",
        "sol_l2 = np.zeros((len(lamb), len(X.columns)))\n",
        "sol_l1 = np.zeros((len(lamb), len(X.columns)))\n",
        "for i in range(len(lamb)):\n",
        "  l2 = Ridge(alpha=i)\n",
        "  l2.fit(X,y)\n",
        "  sol_l2[i,:] = l2.coef_\n",
        "  l1 = Lasso(alpha=alpha[i])\n",
        "  l1.fit(X,y)\n",
        "  sol_l1[i,:] = l1.coef_"
      ],
      "metadata": {
        "colab": {
          "base_uri": "https://localhost:8080/"
        },
        "id": "EKIX9Z5cyZhb",
        "outputId": "cf8cc922-f374-4af1-e6cb-4758bdea22b9"
      },
      "execution_count": 61,
      "outputs": [
        {
          "output_type": "stream",
          "name": "stderr",
          "text": [
            "<ipython-input-61-24f8b5e671ca>:10: UserWarning: With alpha=0, this algorithm does not converge well. You are advised to use the LinearRegression estimator\n",
            "  l1.fit(X,y)\n",
            "/usr/local/lib/python3.9/dist-packages/sklearn/linear_model/_coordinate_descent.py:631: UserWarning: Coordinate descent with no regularization may lead to unexpected results and is discouraged.\n",
            "  model = cd_fast.enet_coordinate_descent(\n",
            "/usr/local/lib/python3.9/dist-packages/sklearn/linear_model/_coordinate_descent.py:631: ConvergenceWarning: Objective did not converge. You might want to increase the number of iterations, check the scale of the features or consider increasing regularisation. Duality gap: 2.153e+01, tolerance: 1.279e-02 Linear regression models with null weight for the l1 regularization term are more efficiently fitted using one of the solvers implemented in sklearn.linear_model.Ridge/RidgeCV instead.\n",
            "  model = cd_fast.enet_coordinate_descent(\n"
          ]
        }
      ]
    },
    {
      "cell_type": "code",
      "source": [
        "\n",
        "def plot(sol,lamb,legend):\n",
        "  plt.plot(lamb,sol,label=legend)\n",
        "  plt.legend()\n",
        "  plt.xlabel('alpha')\n",
        "\n",
        "plt.subplots(1,2,figsize=(10,10))\n",
        "\n",
        "plt.subplot(1,2,1)\n",
        "for i in range(sol_l2.shape[1]):\n",
        "  plot(sol_l2[:,i],lamb,X.columns[i])\n",
        "plt.title('solution path of Ridge')\n",
        "plt.subplot(1,2,2)\n",
        "for i in range(sol_l1.shape[1]):\n",
        "  plot(sol_l1[:,i],alpha,X.columns[i])\n",
        "plt.title('solution path of Lasso')"
      ],
      "metadata": {
        "colab": {
          "base_uri": "https://localhost:8080/",
          "height": 639
        },
        "id": "o8_pSszMzbYL",
        "outputId": "c96de0f0-80bf-48fa-8c8e-b6e3ae61b55c"
      },
      "execution_count": 64,
      "outputs": [
        {
          "output_type": "execute_result",
          "data": {
            "text/plain": [
              "Text(0.5, 1.0, 'solution path of Lasso')"
            ]
          },
          "metadata": {},
          "execution_count": 64
        },
        {
          "output_type": "display_data",
          "data": {
            "text/plain": [
              "<Figure size 720x720 with 2 Axes>"
            ],
            "image/png": "[encoded data removed]"
          },
          "metadata": {
            "needs_background": "light"
          }
        }
      ]
    },
    {
      "cell_type": "code",
      "source": [],
      "metadata": {
        "id": "cD0S2fo40Vcf"
      },
      "execution_count": null,
      "outputs": []
    }
  ]
}